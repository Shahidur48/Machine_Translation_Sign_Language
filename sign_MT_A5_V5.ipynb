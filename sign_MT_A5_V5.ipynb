{
  "cells": [
    {
      "cell_type": "markdown",
      "source": [
        "# Machine Translation Competition\n",
        "\n",
        "**Contributor: Md Shahidur Rahaman**\n",
        "\n",
        "*This work is inspired from the google research code: This study uses Effective Approaches to Attention-based Neural Machine Translation to train a sequence to sequence (seq2seq) model for Spanish to English translation.*\n",
        "\n",
        "link : *https://www.tensorflow.org/text/tutorials/nmt_with_attention?fbclid=IwAR3Aq7a8iyip3Fx-OlUDAtp81UGIhm-bGX4dhVS-QdpdbIbq6S0a-ipbUEU*"
      ],
      "metadata": {
        "id": "1m6LK6ssXTDS"
      }
    },
    {
      "cell_type": "code",
      "execution_count": 395,
      "metadata": {
        "colab": {
          "base_uri": "https://localhost:8080/"
        },
        "id": "ZTFNq6Tnt_d0",
        "outputId": "ddbacb44-a79e-40c2-89bb-9ae08619e82f"
      },
      "outputs": [
        {
          "output_type": "stream",
          "name": "stdout",
          "text": [
            "Requirement already satisfied: tensorflow-text==2.8.* in /usr/local/lib/python3.7/dist-packages (2.8.2)\n",
            "Requirement already satisfied: tensorflow-hub>=0.8.0 in /usr/local/lib/python3.7/dist-packages (from tensorflow-text==2.8.*) (0.12.0)\n",
            "Requirement already satisfied: tensorflow<2.9,>=2.8.0 in /usr/local/lib/python3.7/dist-packages (from tensorflow-text==2.8.*) (2.8.0)\n",
            "Requirement already satisfied: numpy>=1.20 in /usr/local/lib/python3.7/dist-packages (from tensorflow<2.9,>=2.8.0->tensorflow-text==2.8.*) (1.21.6)\n",
            "Requirement already satisfied: setuptools in /usr/local/lib/python3.7/dist-packages (from tensorflow<2.9,>=2.8.0->tensorflow-text==2.8.*) (57.4.0)\n",
            "Requirement already satisfied: tensorflow-io-gcs-filesystem>=0.23.1 in /usr/local/lib/python3.7/dist-packages (from tensorflow<2.9,>=2.8.0->tensorflow-text==2.8.*) (0.25.0)\n",
            "Requirement already satisfied: wrapt>=1.11.0 in /usr/local/lib/python3.7/dist-packages (from tensorflow<2.9,>=2.8.0->tensorflow-text==2.8.*) (1.14.0)\n",
            "Requirement already satisfied: astunparse>=1.6.0 in /usr/local/lib/python3.7/dist-packages (from tensorflow<2.9,>=2.8.0->tensorflow-text==2.8.*) (1.6.3)\n",
            "Requirement already satisfied: absl-py>=0.4.0 in /usr/local/lib/python3.7/dist-packages (from tensorflow<2.9,>=2.8.0->tensorflow-text==2.8.*) (1.0.0)\n",
            "Requirement already satisfied: tensorboard<2.9,>=2.8 in /usr/local/lib/python3.7/dist-packages (from tensorflow<2.9,>=2.8.0->tensorflow-text==2.8.*) (2.8.0)\n",
            "Requirement already satisfied: google-pasta>=0.1.1 in /usr/local/lib/python3.7/dist-packages (from tensorflow<2.9,>=2.8.0->tensorflow-text==2.8.*) (0.2.0)\n",
            "Requirement already satisfied: keras-preprocessing>=1.1.1 in /usr/local/lib/python3.7/dist-packages (from tensorflow<2.9,>=2.8.0->tensorflow-text==2.8.*) (1.1.2)\n",
            "Requirement already satisfied: libclang>=9.0.1 in /usr/local/lib/python3.7/dist-packages (from tensorflow<2.9,>=2.8.0->tensorflow-text==2.8.*) (14.0.1)\n",
            "Requirement already satisfied: gast>=0.2.1 in /usr/local/lib/python3.7/dist-packages (from tensorflow<2.9,>=2.8.0->tensorflow-text==2.8.*) (0.5.3)\n",
            "Requirement already satisfied: six>=1.12.0 in /usr/local/lib/python3.7/dist-packages (from tensorflow<2.9,>=2.8.0->tensorflow-text==2.8.*) (1.15.0)\n",
            "Requirement already satisfied: grpcio<2.0,>=1.24.3 in /usr/local/lib/python3.7/dist-packages (from tensorflow<2.9,>=2.8.0->tensorflow-text==2.8.*) (1.44.0)\n",
            "Requirement already satisfied: typing-extensions>=3.6.6 in /usr/local/lib/python3.7/dist-packages (from tensorflow<2.9,>=2.8.0->tensorflow-text==2.8.*) (4.2.0)\n",
            "Requirement already satisfied: protobuf>=3.9.2 in /usr/local/lib/python3.7/dist-packages (from tensorflow<2.9,>=2.8.0->tensorflow-text==2.8.*) (3.17.3)\n",
            "Requirement already satisfied: h5py>=2.9.0 in /usr/local/lib/python3.7/dist-packages (from tensorflow<2.9,>=2.8.0->tensorflow-text==2.8.*) (3.1.0)\n",
            "Requirement already satisfied: tf-estimator-nightly==2.8.0.dev2021122109 in /usr/local/lib/python3.7/dist-packages (from tensorflow<2.9,>=2.8.0->tensorflow-text==2.8.*) (2.8.0.dev2021122109)\n",
            "Requirement already satisfied: keras<2.9,>=2.8.0rc0 in /usr/local/lib/python3.7/dist-packages (from tensorflow<2.9,>=2.8.0->tensorflow-text==2.8.*) (2.8.0)\n",
            "Requirement already satisfied: flatbuffers>=1.12 in /usr/local/lib/python3.7/dist-packages (from tensorflow<2.9,>=2.8.0->tensorflow-text==2.8.*) (2.0)\n",
            "Requirement already satisfied: termcolor>=1.1.0 in /usr/local/lib/python3.7/dist-packages (from tensorflow<2.9,>=2.8.0->tensorflow-text==2.8.*) (1.1.0)\n",
            "Requirement already satisfied: opt-einsum>=2.3.2 in /usr/local/lib/python3.7/dist-packages (from tensorflow<2.9,>=2.8.0->tensorflow-text==2.8.*) (3.3.0)\n",
            "Requirement already satisfied: wheel<1.0,>=0.23.0 in /usr/local/lib/python3.7/dist-packages (from astunparse>=1.6.0->tensorflow<2.9,>=2.8.0->tensorflow-text==2.8.*) (0.37.1)\n",
            "Requirement already satisfied: cached-property in /usr/local/lib/python3.7/dist-packages (from h5py>=2.9.0->tensorflow<2.9,>=2.8.0->tensorflow-text==2.8.*) (1.5.2)\n",
            "Requirement already satisfied: markdown>=2.6.8 in /usr/local/lib/python3.7/dist-packages (from tensorboard<2.9,>=2.8->tensorflow<2.9,>=2.8.0->tensorflow-text==2.8.*) (3.3.6)\n",
            "Requirement already satisfied: werkzeug>=0.11.15 in /usr/local/lib/python3.7/dist-packages (from tensorboard<2.9,>=2.8->tensorflow<2.9,>=2.8.0->tensorflow-text==2.8.*) (1.0.1)\n",
            "Requirement already satisfied: google-auth<3,>=1.6.3 in /usr/local/lib/python3.7/dist-packages (from tensorboard<2.9,>=2.8->tensorflow<2.9,>=2.8.0->tensorflow-text==2.8.*) (1.35.0)\n",
            "Requirement already satisfied: google-auth-oauthlib<0.5,>=0.4.1 in /usr/local/lib/python3.7/dist-packages (from tensorboard<2.9,>=2.8->tensorflow<2.9,>=2.8.0->tensorflow-text==2.8.*) (0.4.6)\n",
            "Requirement already satisfied: requests<3,>=2.21.0 in /usr/local/lib/python3.7/dist-packages (from tensorboard<2.9,>=2.8->tensorflow<2.9,>=2.8.0->tensorflow-text==2.8.*) (2.23.0)\n",
            "Requirement already satisfied: tensorboard-plugin-wit>=1.6.0 in /usr/local/lib/python3.7/dist-packages (from tensorboard<2.9,>=2.8->tensorflow<2.9,>=2.8.0->tensorflow-text==2.8.*) (1.8.1)\n",
            "Requirement already satisfied: tensorboard-data-server<0.7.0,>=0.6.0 in /usr/local/lib/python3.7/dist-packages (from tensorboard<2.9,>=2.8->tensorflow<2.9,>=2.8.0->tensorflow-text==2.8.*) (0.6.1)\n",
            "Requirement already satisfied: rsa<5,>=3.1.4 in /usr/local/lib/python3.7/dist-packages (from google-auth<3,>=1.6.3->tensorboard<2.9,>=2.8->tensorflow<2.9,>=2.8.0->tensorflow-text==2.8.*) (4.8)\n",
            "Requirement already satisfied: cachetools<5.0,>=2.0.0 in /usr/local/lib/python3.7/dist-packages (from google-auth<3,>=1.6.3->tensorboard<2.9,>=2.8->tensorflow<2.9,>=2.8.0->tensorflow-text==2.8.*) (4.2.4)\n",
            "Requirement already satisfied: pyasn1-modules>=0.2.1 in /usr/local/lib/python3.7/dist-packages (from google-auth<3,>=1.6.3->tensorboard<2.9,>=2.8->tensorflow<2.9,>=2.8.0->tensorflow-text==2.8.*) (0.2.8)\n",
            "Requirement already satisfied: requests-oauthlib>=0.7.0 in /usr/local/lib/python3.7/dist-packages (from google-auth-oauthlib<0.5,>=0.4.1->tensorboard<2.9,>=2.8->tensorflow<2.9,>=2.8.0->tensorflow-text==2.8.*) (1.3.1)\n",
            "Requirement already satisfied: importlib-metadata>=4.4 in /usr/local/lib/python3.7/dist-packages (from markdown>=2.6.8->tensorboard<2.9,>=2.8->tensorflow<2.9,>=2.8.0->tensorflow-text==2.8.*) (4.11.3)\n",
            "Requirement already satisfied: zipp>=0.5 in /usr/local/lib/python3.7/dist-packages (from importlib-metadata>=4.4->markdown>=2.6.8->tensorboard<2.9,>=2.8->tensorflow<2.9,>=2.8.0->tensorflow-text==2.8.*) (3.8.0)\n",
            "Requirement already satisfied: pyasn1<0.5.0,>=0.4.6 in /usr/local/lib/python3.7/dist-packages (from pyasn1-modules>=0.2.1->google-auth<3,>=1.6.3->tensorboard<2.9,>=2.8->tensorflow<2.9,>=2.8.0->tensorflow-text==2.8.*) (0.4.8)\n",
            "Requirement already satisfied: idna<3,>=2.5 in /usr/local/lib/python3.7/dist-packages (from requests<3,>=2.21.0->tensorboard<2.9,>=2.8->tensorflow<2.9,>=2.8.0->tensorflow-text==2.8.*) (2.10)\n",
            "Requirement already satisfied: urllib3!=1.25.0,!=1.25.1,<1.26,>=1.21.1 in /usr/local/lib/python3.7/dist-packages (from requests<3,>=2.21.0->tensorboard<2.9,>=2.8->tensorflow<2.9,>=2.8.0->tensorflow-text==2.8.*) (1.24.3)\n",
            "Requirement already satisfied: certifi>=2017.4.17 in /usr/local/lib/python3.7/dist-packages (from requests<3,>=2.21.0->tensorboard<2.9,>=2.8->tensorflow<2.9,>=2.8.0->tensorflow-text==2.8.*) (2021.10.8)\n",
            "Requirement already satisfied: chardet<4,>=3.0.2 in /usr/local/lib/python3.7/dist-packages (from requests<3,>=2.21.0->tensorboard<2.9,>=2.8->tensorflow<2.9,>=2.8.0->tensorflow-text==2.8.*) (3.0.4)\n",
            "Requirement already satisfied: oauthlib>=3.0.0 in /usr/local/lib/python3.7/dist-packages (from requests-oauthlib>=0.7.0->google-auth-oauthlib<0.5,>=0.4.1->tensorboard<2.9,>=2.8->tensorflow<2.9,>=2.8.0->tensorflow-text==2.8.*) (3.2.0)\n"
          ]
        }
      ],
      "source": [
        "#TF.Text is a TensorFlow library of text related operation, modules, and subgraphs.\n",
        "!pip install \"tensorflow-text==2.8.*\""
      ]
    },
    {
      "cell_type": "code",
      "execution_count": 396,
      "metadata": {
        "id": "6HkFjK0YuzGv"
      },
      "outputs": [],
      "source": [
        "#Importing package Libraries\n",
        "import numpy as np\n",
        "import typing\n",
        "from typing import Any, Tuple\n",
        "import tensorflow as tf\n",
        "import tensorflow_text as tf_text\n",
        "import matplotlib.pyplot as plt\n",
        "import matplotlib.ticker as ticker"
      ]
    },
    {
      "cell_type": "code",
      "execution_count": 397,
      "metadata": {
        "id": "M7lG9PFxu1sZ"
      },
      "outputs": [],
      "source": [
        "#Switching between custom to Builtin Implementation\n",
        "use_builtins = True"
      ]
    },
    {
      "cell_type": "code",
      "execution_count": 398,
      "metadata": {
        "id": "7vPO02EMu3lb"
      },
      "outputs": [],
      "source": [
        "#Checking the Shape for the model\n",
        "class ShapeChecker():\n",
        "  def __init__(self):\n",
        "    self.shapes = {}\n",
        "\n",
        "  def __call__(self, tensor, names, broadcast=False):\n",
        "    if not tf.executing_eagerly():\n",
        "      return\n",
        "\n",
        "    if isinstance(names, str):\n",
        "      names = (names,)\n",
        "\n",
        "    shape = tf.shape(tensor)\n",
        "    rank = tf.rank(tensor)\n",
        "\n",
        "    if rank != len(names):\n",
        "      raise ValueError(f'Rank mismatch:\\n'\n",
        "                       f'    found {rank}: {shape.numpy()}\\n'\n",
        "                       f'    expected {len(names)}: {names}\\n')\n",
        "    for i, name in enumerate(names):\n",
        "      if isinstance(name, int):\n",
        "        old_dim = name\n",
        "      else:\n",
        "        old_dim = self.shapes.get(name, None)\n",
        "      new_dim = shape[i]\n",
        "\n",
        "      if (broadcast and new_dim == 1):\n",
        "        continue\n",
        "      if old_dim is None:\n",
        "        self.shapes[name] = new_dim\n",
        "        continue\n",
        "      if new_dim != old_dim:\n",
        "        raise ValueError(f\"Shape mismatch for dimension: '{name}'\\n\"\n",
        "                         f\"    found: {new_dim}\\n\"\n",
        "                         f\"    expected: {old_dim}\\n\")"
      ]
    },
    {
      "cell_type": "code",
      "execution_count": 399,
      "metadata": {
        "id": "a30U8NS5vP75"
      },
      "outputs": [],
      "source": [
        "#Data Load from the Source and Tokens\n",
        "def load_data_old(path):\n",
        "  source_file = \"sentencesTrain.txt\"\n",
        "  target_file = \"tokensTrain.txt\"\n",
        "  text_pairs_source = []\n",
        "  text_pairs_target = []\n",
        "  with open(source_file,encoding=\"unicode_escape\") as file1, open(target_file,encoding=\"unicode_escape\") as file2:\n",
        "      for line1, line2 in zip(file1, file2):\n",
        "          line1 = line1.replace(\"\\n\", \" \")\n",
        "          line1 = line1.strip()\n",
        "          \n",
        "          line2 = line2.replace(\",\", \" \")\n",
        "          line2 = line2.replace(\"\\n\", \" \")\n",
        "          line2 = line2.strip()\n",
        "          text_pairs_source.append(line1)\n",
        "          text_pairs_target.append(line2)\n",
        "          print(line2)\n",
        "  return text_pairs_target,text_pairs_source"
      ]
    },
    {
      "cell_type": "code",
      "source": [
        "#Data Load from the Source and Tokens\n",
        "def load_data(path):\n",
        "  source_file = \"sentencesTrain.txt\"\n",
        "  target_file = \"tokensTrain.txt\"\n",
        "  text_pairs_source = []\n",
        "  text_pairs_target = []\n",
        "  with open(source_file,encoding=\"unicode_escape\") as file1, open(target_file,encoding=\"unicode_escape\") as file2:\n",
        "      for line1, line2 in zip(file1, file2):\n",
        "          line1 = line1.replace(\"\\n\", \" \")\n",
        "          line1 = line1.strip()\n",
        "          \n",
        "          line2 = line2.replace(\",\", \" \").replace(\"\\n\", \" \").strip()\n",
        "          # line2 = line2.replace(\"\\n\", \" \")\n",
        "          # line2 = line2.strip()\n",
        "          text_pairs_source.append(line1)\n",
        "          text_pairs_target.append(line2)\n",
        "          print(line2)\n",
        "  return text_pairs_target,text_pairs_source"
      ],
      "metadata": {
        "id": "8FX4luqlFroh"
      },
      "execution_count": 400,
      "outputs": []
    },
    {
      "cell_type": "code",
      "execution_count": 401,
      "metadata": {
        "colab": {
          "base_uri": "https://localhost:8080/"
        },
        "id": "hZdT3D_tvk7Z",
        "outputId": "e89ece87-4005-4600-88c2-69d7d72105fa"
      },
      "outputs": [
        {
          "output_type": "stream",
          "name": "stdout",
          "text": [
            "(P)PARTY START WHICH TIME EIGHT TIME NINE (P)PARTY START WHICH TIME\n",
            "(G/Q)POSS-1p SISTER (2h)IX-3p:i tube skipping on water IX-1p GO-BY-BOAT IX-1p LOOK MAKE REALLY person flips off IX-1p STOP SISTER (2h)IX-3p:i tube skipping on water GO-BY-BOAT MAKE STOP\n",
            "MOTHER IX-loc:i #IF+ (1h)HAVE TIME+ IX-3p:i FUTURE BRING COOKIE TIME+ BRING COOKIE\n",
            "#NO+ IX-1p NOT OLD ENOUGH TO/UNTIL VOTE THAT TIME part:indef ENOUGH TO/UNTIL VOTE TIME part:indef\n",
            "FRIEND WANT_2 BUY PLAID (2h)SHIRT FRIEND WANT_2 BUY (2h)SHIRT\n",
            "#IF TOMORROW SNOW GUARANTEE SCHOOL FUTURE CLOSE-DOOR SNOW GUARANTEE SCHOOL CLOSE-DOOR\n",
            "IX-1p RECENT-PAST DRINK TASTE FINE++ (1h)part:indef\n",
            "#IF MOTHERwg IX-3p:i NOT person walking SELL IX-1p-pl-arc REFUSE (1h)HAVE MILK part:indef SELL (1h)part:indef part:indef\n",
            "FINEwg MOTHERwg FUTURE GIVE-1p TWENTY DOLLAR #IF IX-1p NICE/CLEAN (K)KITCHEN DOLLAR NICE/CLEAN (K)KITCHEN\n",
            "TEACH+AGENT IX-loc:i IX-3p-pl-arc HEAR/LISTEN IX-3p:i WHO TEACH AGENT BUOY IX-3p:j\n",
            "IX-1p RECENT-PAST READ+ BOOK IX-1p READ+ BOOK\n",
            "EXPRESS THROUGH_2 (2h)TALKwg MINOR EXPRESS SIGN CURRENT-TOPIC ROAD EXPRESS THROUGH_2 (2h)TALKwg MINOR EXPRESS SIGN CURRENT-TOPIC ROAD\n",
            "IX-1p LIKE MAYBE (2h)THING (2h)ANY+(2h)THING I don't know MAYBE (2h)THING (2h)ANY (2h)THING I don't know\n",
            "wave no NOW THURSDAY+ MEAN TOMORROW FRIDAY+ NOW MEAN\n",
            "FRIEND GROUP/TOGETHER DRIVE WHERE FRIEND GROUP/TOGETHER DRIVE\n",
            "FRIEND NOW IX-3p:i PLAY VIDEO-GAME FRIEND NOW PLAY VIDEO-GAME\n",
            "POSS-1p SISTER WANT FOR POSS-3p:i BIRTHDAY (1h)DO-DO (1h)part:indef SISTER WANT\n",
            "FRIEND FINISH EXPERIENCE+ TRIP QMwg FRIEND FINISH\n",
            "fs-BOB IX-loc:i NOT-YET SEND LETTER/MAIL SEND LETTER/MAIL\n",
            "#IF IX-3p:i FAMILY DECIDE VACATION EVERY-YEAR IX-3p:i FUTURE EVERY-YEAR DEPART+ ns-#PR FAMILY DECIDE VACATION EVERY-YEAR\n",
            "fs-NETFLIX RECENT-PAST SEND IX-1p recieve DVD fs-DVD DVD (1h)SCRAPE (1h)part:indef SEND recieve DVD DVD\n",
            "IX-3p-pl-2:i/j fs-JACK fs-SUE MEET PAST+ FINISH QMwg MEET FINISH\n",
            "GAME FINISH BEFORE_2 TIME SIX part:indef WHICH GAME FINISH BEFORE_2 TIME part:indef WHICH\n",
            "IX-2p LEAVE NOT-MIND+ CLOSE-GATE LEAVE CLOSE-GATE\n",
            "IX-3p:i NOT FINISH (25)WHY IX-3p:i REST+++ FINISH REST+++\n",
            "DRESS/CLOTHES IX-loc:i #SALE IX-1p FRIEND GROUP/TOGETHER group go together #MALL DRESS/CLOTHES FRIEND GROUP/TOGETHER group go together\n",
            "IX-1p NOT SEE (5)ACCIDENT part:indef IX-1p SLEEP part:indef (5)ACCIDENT part:indef\n",
            "PLAN SURPRISE fs-BOB WHO PLAN SURPRISE\n",
            "TOMORROW RAIN++ MEAN ARRIVE UNCLE HOUSE STAY IN+ RAIN++ MEAN ARRIVE HOUSE STAY IN+\n",
            "RAIN++ (1h)WOW/AWFUL RAIN++\n",
            "#WHEN FATHERwg IX-loc:i ARRIVE HOME fs-LATE MOTHER IX-loc:i REFUSE MAKE DINNER+ ARRIVE MAKE\n",
            "#WHEN POSS-1p SISTER IX-3p:i WATER+TUBING IX-loc:i IX-1p-pl-arc MUST MAKE REALLY (2h)LOOK-FORWARD NOT person sliding off tube SISTER TUBING MAKE (2h)LOOK-FORWARD person sliding off tube\n",
            "IX-1p (2h)LOOK MOVIE PAST+NIGHT ACT+AGENT (1h)GOOD/THANK-YOU (2h)LOOK MOVIE NIGHT ACT AGENT\n",
            "MOTHER SICK HOW part:indef SICK HOW part:indef\n",
            "FRIEND ' GO-OUT fs-BEACH (2h)NOT-YET FRIEND ' (2h)NOT-YET\n",
            "MOTHER IX-3p:i SICK NOW NOT SICK NOW\n",
            "POSS-1p MOTHER+ IX-loc:i KISS-FIST GLASSES_2 WHY+ FACE fs-BAD NEAT GLASSES_2\n",
            "#NO+ IX-3p:i many games #ALL GAME (1h)part:indef LOSE-COMPETITION many games GAME\n",
            "WANT_2 #BQQ (P)PARTY FOR (1h)part:indef WANT_2 (P)PARTY\n",
            "IX-2p BUY CAR WHERE BUY CAR\n",
            "THAT IDEA SET-UP REALLY BELOW_2 DIFFERENT-arc CULTURE HAVE DIFFERENT-arc ALLOW INTERPRET #OR GIFT MEAN TO/UNTIL DIFFERENT-arc fs-SENSORY EXPERIENCE you know SET-UP BELOW_2 DIFFERENT-arc CULTURE HAVE DIFFERENT-arc ALLOW INTERPRET GIFT MEAN TO/UNTIL DIFFERENT-arc you know\n",
            "fs-LOTTERY IX-loc:i SOMETHING/ONE WIN QMwg WIN\n",
            "PEOPLE IX-1p 1p-MEET+++:i/j/k/l PAST+NIGHT WOW (L-X)INTERESTING PEOPLE 1p-MEET+++:i/j/k/l NIGHT (L-X)INTERESTING\n",
            "IX-1p PROCEED START FILL-OUT FRIEND (2h)alt.INVITE/HIRE FOR #BBQ GROUP/TOGETHER IX-1p MAKE REALLY LIST #ALL CORRECT PROCEED START FILL-OUT FRIEND (2h)alt.INVITE/HIRE GROUP/TOGETHER MAKE LIST CORRECT\n",
            "POSS-2p FRIEND ADDICTED LAPTOP TYPE INTERNET WHY+ part:indef FRIEND LAPTOP TYPE INTERNET part:indef\n",
            "IX-loc:i START opening can #NO+ wave no NOT IX-1p START opening can\n",
            "#IF IX-1p LOOK FRIEND IX-loc:i FINISH HOMEWORK EMPTY/EARLY (1h)TEND SURF-INTERNET INTERNET ALL-NIGHT FRIEND FINISH HOMEWORK EMPTY/EARLY INTERNET ALL-NIGHT\n",
            "BELOW_2 ON THAT ANALYZE_3 FROM (1)GENERATIONS-AGO+ IDEA SUGGEST fs-EDWARD fs-HALL BELOW_2 ON ANALYZE_3 FROM (1)GENERATIONS-AGO+ SUGGEST\n",
            "GO-OUT+ NOT SNOW SCHOOL NORMAL OPEN STAY++ SNOW SCHOOL NORMAL OPEN STAY++\n",
            "POSS-1p FRIEND IX-3p:i person passed out PAST+NIGHT (25)WHY (2h)(Y)DRINK PARTY-HARD IX-3p:i FRIEND person passed out NIGHT (2h)(Y)DRINK PARTY-HARD\n",
            "FRIEND LOVE SURF-INTERNET REALLY+WORK+ QMwg FRIEND LOVE WORK+\n",
            "IX-1p KISS-FIST APPLE DURING/WHILE AUTUMN DURING/WHILE AUTUMN\n",
            "PICK-1p GROUP #CLUB JOIN (2h)WOW HONOR GROUP JOIN (2h)WOW HONOR\n",
            "IX-1p WARM wave no IX-1p HOT\n",
            "fs-JOHN READ BOOK wave no IX-3p:i fs-JOHN NEVER START BOOK READ BOOK START BOOK\n",
            "#IF IX-1p ARRIVE WORK fs-LATE WOW+ BOSS FUTURE STOP FIRED IX-1p WOW ARRIVE WORK STOP FIRED\n",
            "(1h)INFORM-2p IX-3p:i CAR BREAK-DOWN IX-1p USE_2 CORRECT KEY_2 CAR BREAK-DOWN USE_2 CORRECT\n",
            "IX-1p (1h)part:indef NOT EXPERT MEMORIZE PEOPLE NAME MEET-3p-pl-arc MEMORIZE NAME (1h)DO-DO IX-1p NOT IX-1p PEOPLE NAME MEET-3p-pl-arc (1h)part:indef NAME\n",
            "#WHEN FATHER IX-loc:i ARRIVE HOME fs-LATE IX-1p-pl-arc (1h)TEND EAT PIZZA_4 ARRIVE\n",
            "DRESS/CLOTHES IX-3p:i #SALE WHERE DRESS/CLOTHES\n",
            "#IF+ (fanned-flat-O)POSS-1p FRIEND DRIVE IX-1p (1h)SIT BACK SLEEP FRIEND DRIVE\n",
            "IX-1p WASHING-MACHINE+ NONE/NOTHING_2 part:indef WASHING-MACHINE+ NONE/NOTHING_2 part:indef\n",
            "#IF++ fs-JACK IX-loc:i GET CAT+ FUTURE KEEP++++ GET KEEP++++\n",
            "GAME FINISH BEFORE_2 TIME SIX part:indef WHICH GAME FINISH BEFORE_2 TIME part:indef WHICH\n",
            "#IF FATHERwg IX-loc:i ARRIVE HOME fs-LATE IX-3p:i CANNOT HELP-1p IX-1p WITH POSS-1p-pl-arc HOMEWORK (1h)part:indef ARRIVE CANNOT HELP-1p WITH HOMEWORK\n",
            "NOW IX-1p STUDY GO-OUT SCHOOL+ NOW STUDY SCHOOL+\n",
            "WHO WANT_2 PLAY FRISBEE part:indef WANT_2 PLAY part:indef\n",
            "TIME+ FRIEND IX-3p:i (5)CRASH (P)PARTY TIME+ (1h)part:indef TIME+ FRIEND (5)CRASH (P)PARTY TIME+\n",
            "#WHEN POSS-1p FAMILY REALLY+WORK TAKE-UP fs-PUPPIES IX-1p FUTURE ZOOM PET/SPOILED+ SELL (25)WHY IX-1p BUY COLLAR COLOR fs-COLLARS DIFFERENT-arc COLOR FAMILY WORK TAKE-UP ZOOM PET/SPOILED+ SELL BUY COLLAR DIFFERENT-arc\n",
            "FRIEND IX-loc:i MUST DRIVE WHY IX-1p TIRED IX-1p FRIEND DRIVE TIRED\n",
            "fs-JACK IX-loc:i HAVE MONEY HAVE MONEY\n",
            "WHO (1)SEND LETTER/MAIL_2 (1h)part:indef LETTER/MAIL_2\n",
            "BUY CAR WHO part:indef BUY CAR part:indef\n",
            "#IF IX-1p GO-OUT fs-PUBLIC SCHOOL+ GUARANTEE IX-1p look around and around (25)WHY NONE/NOTHING COMMUNICATE+ SCHOOL+ GUARANTEE look around and around NONE/NOTHING COMMUNICATE+\n",
            "#IF IX-3p:i STUDENT IX-loc:i WIN TROPHY GET ONE+HUNDRED DOLLAR_2 PAPER-CHECK/CARD STUDENT WIN TROPHY GET DOLLAR_2 PAPER-CHECK/CARD\n",
            "#WHEN IX-1p MAKE LIST FOR #BQQ (P)PARTY IX-1p MUST MAKE REALLY IX-1p (2h)INVITE/HIRE ALL POSS-1p FRIEND MAKE LIST (P)PARTY MAKE (2h)INVITE/HIRE ALL FRIEND\n",
            "fs-BRIDE AND fs-GROOM END WEDDING (25)WHY (1h)part:indef END WEDDING\n",
            "MUST MOVE-AWAY ns-#SD WHY (1h)part:indef MOVE-AWAY\n",
            "#IF hesitation IX-3p:i STUDENT PROCEED HEAR/LISTEN TEACH+AGENT LOOK-UP FUTURE LEARN SOMETHING/ONE STUDENT PROCEED TEACH AGENT LEARN\n",
            "HORSE IX-loc:i VOMIT/HATE RAIN+ PLAY GO-OUT horses running NOT LIKE VOMIT/HATE RAIN+ PLAY horses running\n",
            "BACK-OF-MIND AUTOMATIC (1h)part:indef AUTOMATIC\n",
            "ALCOHOL+ SELF-3p:i+ NOT ALWAYS (1h)GOOD/THANK-YOU part:indef ALCOHOL+ BUOY part:indef\n",
            "IX-2p (1h)TEND CHAT WITH IX-3p-pl-2:i/j WHY (1h)part:indef CHAT WITH\n",
            "#IF fs-OBAMA CHOOSE REPUBLICAN IX-3p:i fs-OBAMA FUTURE SORRY IX-3p:i CHOOSE\n",
            "#IF POSS-1p FRIEND IX-3p:i (1h)(flat-O)PAY/SPEND PLAID (2h)SHIRT IX-1p MUST MAKE REALLY OPPOSITE IX-1p (4)STRIPES FRIEND (2h)SHIRT MAKE OPPOSITE\n",
            "MUST (P)PAY fs-RENT WHO (P)PAY\n",
            "fs-BILL IX-loc:i MOVE ns-NEW-YORK FUTURE MOVE ns-NEW-YORK\n",
            "IX-1p NOT-YET (P)PAY EVERY-MONTH/RENT++ (P)PAY EVERY-MONTH/RENT++\n",
            "#IF FATHER IX-loc:i ARRIVE HOME fs-LATE IX-3p:j MOTHERwg GUARANTEE BAWL-OUT+ (25)WHY CHILDREN WANT_2 SEE FATHER IX-3p:i ARRIVE GUARANTEE BAWL-OUT+ CHILDREN WANT_2\n",
            "#IF IX-3p-pl-2:i/j fs-BRIDE AND fs-GROOM IX-3p-pl-2:i/j DANCE LAST WEDDING PEOPLE MUST people gathering in a circle QUIET (2h)LOOK-FORWARD BUOY_2 DANCE LAST WEDDING PEOPLE people gathering in a circle QUIET (2h)LOOK-FORWARD\n",
            "WHO KISS-FIST LOOK FIREWORKS\n",
            "fs-BOB IX-loc:i (1h)VOMIT/HATE READ BOOK+ READ BOOK+\n",
            "#IF+ POSS-1p FRIEND MAKE-IT SURPRISE fs-BOB IX-1p tip hat WHY+ fs-BOB IX-3p:i REALLY IMPOSSIBLE SURPRISE IX-3p:i FRIEND MAKE-IT SURPRISE IMPOSSIBLE SURPRISE\n",
            "SURPRISE (P)PARTY TIME START #WHEN part:indef SURPRISE (P)PARTY TIME START part:indef\n",
            "#IF RAIN+ (Y)YESTERDAY whoa REALLY #GO (nd-1)MOVIE RAIN+ (nd-1)MOVIE\n",
            "IX-2p WORK WHERE WORK\n",
            "#NO++ POSS-1p ROOMMATE NOT (1h)GRAB RECENT-PAST HAVE EAT+MORNING WITH IX-3p:i part:indef ROOMMATE MORNING WITH part:indef\n",
            "IX-1p WANT+NEG BUY SHORTS WANT NEG BUY SHORTS\n",
            "FATHER LAZY++ MOW GRASS REFUSE IX-3p:i MOW\n",
            "KISS-FIST LOOK-UP STAR+BOMB++ WHO part:indef STAR BOMB++ (1h)part:indef part:indef\n",
            "IX-1p THINK (Y)WOW BORE IX-1p\n",
            "(1h)TEND IX-1p GO UNCLE HOUSE IX-3p:i UNCLE ALWAYS (1h)STAY IN+ IX-3p:j GO HOUSE IN+\n",
            "IX-1p GO SCHOOL++ GO SCHOOL++\n",
            "IX-2p FINISH (L)LIVE THROUGH COLD IN ns-BOSTON wow SNOW+ A-LOT (1h)part:indef FINISH (L)LIVE THROUGH COLD IN SNOW+ A-LOT\n",
            "IX-1p NOW READ+ BOOK NOW READ+ BOOK\n",
            "KNOW+ FUTURE RAIN TOMORROW RAIN\n",
            "IX-2p NOT PASS-OUT_2 IX-2p DRUNK NOT IX-2p\n",
            "IX-1p FINISH DECIDE fs-MARY NOT INVITE/HIRE GO-OUT #BQQ (P)PARTY (25)WHY IX-3p:i NOT HAPPEN (5)SOCIAL/INTERACT FINISH DECIDE (P)PARTY HAPPEN (5)SOCIAL/INTERACT\n",
            "ATTENTION-WAVE #IF ATTENTION-WAVE fs-BOB IX-3p:i STUDY fs-LIT BOOK IX-3p:i FUTURE PASS LAST fs-EXAM ATTENTION-WAVE STUDY BOOK PASS LAST\n",
            "IX-1p MUST REQUEST DIRECT/EXPLAIN (25)WHY IX-1p KNOW-NOTHING WHERE GO-OUT IX-1p REQUEST DIRECT/EXPLAIN\n",
            "(1h)part:indef IX-1p LIKE IX-3p:i #IF IX-3p:i (1h)HAVE BUTTER IN+ oh well FINE IX-1p part:indef BUTTER IN+ oh well part:indef\n",
            "VEGETABLE #IF++ fs-JOHN (2h)alt.EAT+ fs-SPINACH BECOME SICK (2h)alt.EAT+ BECOME SICK\n",
            "what's going on? NONE/NOTHING BOOK-pl TABLE IX-honorific:i (1h)NONE/NOTHING (1h)part:indef NONE/NOTHING BOOK-pl TABLE\n",
            "(P)PARTY START WHICH TIME EIGHT TIME NINE (P)PARTY START WHICH TIME\n",
            "NOT HAVE TIME TOMORROW not a big deal wash car CAR MONDAY HAVE TIME not a big deal wash car CAR\n",
            "AUNT EXPERT MAKE (1h)DO-DO MAKE\n",
            "WHO IX-3p-pl-arc FIND/FIND-OUT IX-1p KEY (1h)part:indef KEY\n",
            "(P)PARTY_2 NIGHT START EIGHT NINE part:indef (P)PARTY_2 NIGHT START part:indef\n",
            "POSS-1p FAMILY IX-3p:i EVERY-YEAR VACATION+ part:indef (2h)#NO+MORE (1h)part:indef FAMILY EVERY-YEAR VACATION+ part:indef (2h)#NO MORE\n",
            "#NO IX-1p VOMIT/HATE++ #IF IX-1p EAT PINEAPPLE fs-CREAM CHEESE wave no IX-1p FAVORITE/PREFER+ fs-LOX VOMIT/HATE++ CHEESE\n",
            "IX-1p NOT THINK IX-3p:i PLAN GO part:indef IF+ SEE part:indef IX-1p FUTURE (1h)INFORM i:CALL-BY-PHONE:j IX-2p PLAN GO part:indef\n",
            "#IF fs-BOB IX-loc:i GO-OUT #PO IX-1p FUTURE GIVE:i ALL POSS-1p LETTER/MAIL_2 (25)WHY IX-3p:i CAN (1h)DROP fs-OFF BUOY ALL LETTER/MAIL_2 CAN\n",
            "#WHEN FRIEND GO-OUT (P)PARTY IX-1p GRAB-CHANCE 1p-INFORM:i ROOMMATE+ IX-1p JOIN FRIEND (P)PARTY GRAB-CHANCE 1p-INFORM:i ROOMMATE+ JOIN\n",
            "IX-3p:i BUY CAR WHAT KIND BUY CAR WHAT KIND\n",
            "POSS-1p FRIEND WANT PLAID (2h)SHIRT (25)WHY IX-3p:i FUTURE HAVE DRESS/CLOTHES (P)PARTY GROUP/TOGETHER DEPART FRIEND WANT (2h)SHIRT DRESS/CLOTHES (P)PARTY GROUP/TOGETHER\n",
            "THAT TWO DIFFERENT (B)NEXT-TOPIC #ORIENTATION CURRENT-TOPIC SET-UP FROM WHAT DIFFERENT (B)NEXT-TOPIC CURRENT-TOPIC SET-UP FROM WHAT\n",
            "TEACH+AGENT IX-3p:i SICK-OF NICE/CLEAN CLASS+BOX/ROOM IX-3p:i FORGET-IT NOT NICE/CLEAN NOW+ TEACH AGENT NICE/CLEAN CLASS BOX/ROOM NICE/CLEAN NOW+\n",
            "IX-2p START TRIP #WHEN (1h)part:indef START\n",
            "SEND LETTER/MAIL WHO SEND LETTER/MAIL\n",
            "whoa #IF+ ORDER PIZZA_4 HERE FUTURE DELICIOUS whoa HERE\n",
            "POSS-1p GIRL CORRECT IX-3p:i WANT+NEG HEADBAND FOR BIRTHDAY (1h)WANT+NEG CORRECT BUOY WANT NEG HEADBAND\n",
            "#HS IX-2p GO WHERE GO\n",
            "FATHER UPSET WHY (1h)part:indef\n",
            "POSS-1p PAY IX-1p INCREASE LITTLE-BIT SMALL-AMOUNT INCREASE part:indef PAY INCREASE part:indef\n",
            "WHEN IX-3p:i FRIEND LAPTOP TYPE INTERNET hey IX-1p REMIND:i GRAB-CHANCE HOME+WORK++ WHEN FRIEND LAPTOP TYPE INTERNET GRAB-CHANCE WORK++\n",
            "MAN WHO throw out of plane AIRPLANE WHO IX-3p:i fs-ALEC-BALDWIN throw out of plane\n",
            "IX-1p VOLUNTEER/SHIRT HELP+ OTHER ORGANIZATION HELP+ ORGANIZATION\n",
            "#WHEN MOTHER IX-loc:i GO-OUT SELL IX-1p FUTURE REMIND-2p+ MAKE+REALLY GET IX-1p-pl-arc MILK SELL MAKE GET\n",
            "#NO+ IX-3p:i many games #ALL GAME (1h)part:indef LOSE-COMPETITION many games GAME\n",
            "IX-1p ANALYZE MATH+ PROBLEM_2 IX-1p LOOK-OVER ANALYZE MATH+ PROBLEM_2\n",
            "FRIEND GO-OUT FISHING FRIEND FISHING\n",
            "#WHEN IX-1p FINISH NICE/CLEAN+ (K)KITCHEN MOTHER FUTURE TAKE IX-1p GO-OUT FRIEND HOUSE IX-1p FINISH NICE/CLEAN+ (K)KITCHEN FRIEND HOUSE\n",
            "IX-3p:i FEEL NONE/NOTHING_2 (1h)part:indef FEEL (F)NONE/NOTHING_2 (1h)part:indef NONE/NOTHING_2 (F)NONE/NOTHING_2\n",
            "IX-1p GO-OUT SWIM+ fs-BEACH IX-1p GUARANTEE fs-SUN+#BURN (25)WHY IX-1p BLANK-OUT POSS-1p applying suncreen fs-SUNSCREEN SWIM+ GUARANTEE applying suncreen\n",
            "exasperation fs-JOHN NOT HERE part:indef FUTURE ANY+ONE IX-3p-pl-arc KNOW+ WHERE IX-3p:i (1h)part:indef HERE part:indef\n",
            "IX-3p:i (1)GUILTY+ NONE/NOTHING_2+ part:indef NONE/NOTHING_2+ part:indef\n",
            "KNOW-THAT SOMETHING/ONE BUY CAR hey WHO++ BUY CAR\n",
            "(2h)HORSE (1h)TEND PLAY-continuative WHERE (2h)HORSE PLAY-continuative\n",
            "VEGETABLE IX-loc:i IF+ fs-JOHN EAT+++ fs-SPINACH FUTURE BECOME DISGUST+ SICK BECOME SICK\n",
            "#IF IX-3p:i fs-BOB IX-loc:i SUCCEED (2h)alt.FIRE+ IX-1p MUST STAY (2h)LOOK fs-BONFIRE MAKE+REALLY CONTINUE (2h)alt.FIRE++ SUCCEED (2h)alt.FIRE+ STAY (2h)LOOK MAKE CONTINUE (2h)alt.FIRE++\n",
            "(P)PARTY+ (1h)DO-DO KIND (1h)DO-DO (P)PARTY+ KIND\n",
            "GO-OUT+ NOT SNOW SCHOOL NORMAL NOT CANCEL/CRITICIZE SNOW SCHOOL NORMAL CANCEL/CRITICIZE\n",
            "AND MORE COOPERATE/UNITE HOW DEAF PEOPLE POSS-pl-arc EXPERIENCE IN THAT WORLD MORE COOPERATE/UNITE HOW PEOPLE IN WORLD\n",
            "#WHEN POSS-1p FRIEND START HAIR_2+DYE etcetera GUARANTEE MANY PEOPLE FUTURE FOLLOW FRIEND START HAIR_2 DYE etcetera GUARANTEE MANY PEOPLE FOLLOW\n",
            "(1h)WOW/AWFUL IX-1p person passed out PAST+NIGHT EACH+ONE (2h)alt.CHEER WOW person passed out NIGHT EACH (2h)alt.CHEER\n",
            "INTERNET IX-2p SURF-INTERNET (1h)DO-DO (1h)part:indef INTERNET\n",
            "IX-2p NOT ORDER PIZZA_4 part:indef CAN ORDER SPAGHETTI part:indef CAN SPAGHETTI\n",
            "WHO SEND LETTER/MAIL SEND LETTER/MAIL\n",
            "BOX/ROOM BIG_2 wave no NOT SMALL wave no BOX/ROOM BIG_2 SMALL\n",
            "#TV IX-loc:i HOW-MANY/MANY+ IX-loc:i HOW-MANY/MANY+\n",
            "IX-1p NOTICE BABY VOMIT/HATE STAR BOMB+ AFRAID NOTICE BABY VOMIT/HATE STAR BOMB+ AFRAID\n",
            "fs-JOHN IX-3p:i PAY/BUY TURKEY NONE/NOTHING_2 PAY/BUY NONE/NOTHING_2\n",
            "FRIEND PROCEED TAKE-UP PIZZA_4 DINNER (25)WHY IX-3p:i KISS-FIST PIZZA_4 FRIEND PROCEED TAKE-UP BUOY\n",
            "(1h)TEND COMMUTE+ BICYCLE (1h)part:indef WHO BICYCLE\n",
            "BEFORE_2 fs-ISSUE fs-DESDJ #VOL ONE NUMBER ONE IX-1p FOCUS/NARROW (2h)alt.SEE FEEL+ fs-TACTILE MAJOR fs-ORIENTATION TALK-OVER STILL BEFORE_2 NUMBER FOCUS/NARROW (2h)alt.SEE MAJOR TALK-OVER STILL\n",
            "IX-1p LOVE FIREWORKS (25)WHY FIREWORKS BEAUTIFUL LOUD LOVE FIREWORKS LOUD\n",
            "fs-BOB IX-loc:i (2h)NOT-YET GO-OUT #PO (1h)part:indef (2h)NOT-YET\n",
            "IX-2p (1h)WANT KNOW+ (1h)part:indef #IF fs-JOHN IX-loc:i WIN IX-3p:i GET BEAR size of bear WIN GET BEAR size of bear\n",
            "BOX/ROOM IX-loc:i NOT-YET ARRIVE IX-loc:i SHOULD CONTACT+ fs-FEDEX BOX/ROOM ARRIVE CONTACT+\n",
            "FRIEND IX-3p:i DEPART FISHING #WHEN FRIEND FISHING\n",
            "KID IX-loc-pl-arc VOMIT/HATE IX-3p:i PRINCIPAL (25)WHY++ #IF IX-3p:j NOT ACTION HOMEWORK IX-3p:i i:BAWL-OUT-distributive-3p-pl-arc VOMIT/HATE PRINCIPAL ACTION HOMEWORK i:BAWL-OUT-distributive-3p-pl-arc\n",
            "#IF FATHERwg IX-loc:i NOT ARRIVE HOME fs-TOO fs-LATE IX-3p:i CAN HELP IX-1p-pl-arc WITH POSS-1p-pl-arc HOMEWORK ARRIVE CAN HELP WITH HOMEWORK\n",
            "ARRIVE #LATE WHO ARRIVE\n",
            "(1h)TEND COMMUTE WORK BICYCLE WHO WORK BICYCLE\n",
            "fs-BRIDE AND fs-GROOM IX-3p-pl-2:i/j DANCE LAST POSS-1p WEDDING CLOSE-DOOR HOW (1h)part:indef PICK POSS-1p fs-OWN MUSIC BUOY_2 DANCE LAST WEDDING CLOSE-DOOR HOW MUSIC\n",
            "WHO FALL-IN-LOVE fs-BILL FALL-IN-LOVE\n",
            "IX-1p TIRED (1h)WOW/AWFUL TIRED\n",
            "#IF IX-3p:i fs-BOB (1)SEND POSS-3p:i RESUME FUTURE GET WORK BUOY RESUME GET WORK\n",
            "IX-2p GRADUATE #HS #WHEN GRADUATE\n",
            "IF LEARN+AGENT IX-3p:i HEAR/LISTEN TEACH+AGENT FUTURE LEARN SOMETHING/ONE LEARN AGENT TEACH AGENT LEARN\n",
            "#IF POSS-1p FRIEND GROUP/TOGETHER GO-OUT IX-1p FUTURE JOIN FRIEND GROUP/TOGETHER JOIN\n",
            "FRIEND PLAN+ SURPRISE fs-BOB (25)WHY IX-3p:i fs-BOB SOON AGE-TWENTY-ONE FRIEND PLAN+ SURPRISE BUOY\n",
            "HAVE HOMEWORK MUST WRITE THREE BOOK-PAGE (1)REPORT part:indef HAVE HOMEWORK WRITE BOOK-PAGE (1)REPORT part:indef\n",
            "#IF POSS-1p FRIEND PROCEED BRAVE/RECOVER ASK DIRECT/EXPLAIN WHERE IX-1p MUST ACCEPT DRIVE IX-1p FRIEND PROCEED BRAVE/RECOVER DIRECT/EXPLAIN ACCEPT DRIVE\n",
            "IX-3p:i WANT_2 NONE/NOTHING_2 DOUBT IX-1p NONE/NOTHING_2 dismissive gesture WANT_2 NONE/NOTHING_2 dismissive gesture\n",
            "RECENT-PAST IX-2p BUY GIFT FOR POSS-2p MOTHER IX-3p:i FUTURE KISS-FIST BUY GIFT BUOY\n",
            "WHEN IX-1p TRIP ARRIVE ns-INDIA IX-1p MUST WRITE PAPER-CHECK/CARD (2h)SEND/MAIL MOTHER+FATHER THANK-YOU+ IX-3p:i i:HELP-1p SUPPORT MONEY TRIP WHEN ARRIVE WRITE PAPER-CHECK/CARD (2h)SEND/MAIL THANK-YOU+ i:HELP-1p SUPPORT MONEY\n",
            "START WORK IX-2p #WHEN START WORK\n",
            "IX-3p-pl-2:i/j fs-JEN fs-JOE MARRY IX-3p-pl-2:i/j QMwg MARRY\n",
            "ORDER PIZZA_4 HERE GUARANTEE DELICIOUS HERE GUARANTEE\n",
            "#ALL_2 LEARN+AGENT ARRIVE ON TIME NONE TEST LEARN AGENT ARRIVE ON TIME NONE TEST\n",
            "SURPRISE (P)PARTY+ IX-loc:i TIME START part:indef SURPRISE (P)PARTY+ TIME START part:indef\n",
            "fs-SUE IX-3p:i MOVE WHERE++ MOVE\n",
            "#NO++ POSS-1p ROOMMATE NOT (1h)GRAB RECENT-PAST HAVE EAT+MORNING WITH IX-3p:i part:indef ROOMMATE MORNING WITH part:indef\n",
            "POSS-1p FRIEND PROCEED CROWD (5)CRASH (P)PARTY (25)WHY RECENT-PAST FINISH LAST fs-EXAM FRIEND PROCEED CROWD (5)CRASH (P)PARTY FINISH LAST\n",
            "IX-2p ARTICLE IX-2p WRITE FOR ns-BOSTON fs-GLOBE IX-1p READ WOW (1h)GOOD/THANK-YOU IX-3p:i ARTICLE WRITE READ\n",
            "NOW+AFTERNOON+ IX-1p FUTURE GO SELL+ NOW AFTERNOON+ GO SELL+\n",
            "SISTER IX-loc:i #IF++ IX-3p:i NEGLECT++ HOME+WORK REFUSE SUCCEED IN SCHOOL (1h)part:indef SISTER NEGLECT++ WORK SUCCEED IN SCHOOL\n",
            "#IF POSS-1p FAMILY IX-loc:i DECIDE NOT TAKE-UP fs-PUPPIES POSS-1p FRIEND IX-3p:j FUTURE IX-3p:j MAYBE FAMILY DECIDE TAKE-UP FRIEND BUOY MAYBE\n",
            "fs-JOHN IX-loc:i BREAK WINDOW+ BREAK WINDOW+\n",
            "IX-3p:i fs-MARY STOP ROWING wave no IX-3p:i NEVER ROWING UP-TO-NOW NOW STOP ROWING UP-TO-NOW NOW\n",
            "GO-OUT SNOW+ STOP SCHOOL FUTURE fs-RE+OPEN TOMORROW SNOW+ STOP SCHOOL OPEN\n",
            "FRIEND KISS-FIST GO-OUT FISHING (25)WHY IX-3p:i LOVE EAT (1h)FISH FRIEND FISHING LOVE\n",
            "FRIEND IX-loc:i (P)PARTY (1h)GOOD/THANK-YOU QMwg FRIEND (P)PARTY\n",
            "IDEA REALLY MORE TWO DIFFERENT SEPARATE ROAD SET-UP ON let's see FIRST-IN-LIST STORY SYSTEM HOW EXPRESS MORE DIFFERENT SEPARATE ROAD SET-UP ON let's see FIRST-IN-LIST STORY SYSTEM HOW EXPRESS\n",
            "ASK DIRECT/EXPLAIN part:indef WHO part:indef DIRECT/EXPLAIN part:indef\n",
            "(Y)YESTERDAY IX-1p PLAY GOLF NONE/NOTHING PLAY GOLF NONE/NOTHING\n",
            "#IF+ fs-JOHN SMILE MEAN GET WORK+ IX-3p:i SMILE MEAN GET WORK+\n",
            "#NO++ IX-3p:i NOT VEGETABLE IX-3p:i EAT MEAT YES MEAT\n",
            "WHO ARRIVE LATE+ part:indef WHO ARRIVE part:indef\n",
            "fs-BOB IX-loc:i READ (1h)DO-DO READ\n",
            "IX-1p LOVE ACTION MOVIE NOT BORE fs-DRAMA (1h)FORGET-IT LOVE ACTION MOVIE\n",
            "wave no IX-1p GO-OUT HANDSOME/ns-HAWAII_2+ FOR SPRING TAKE-BREAK SPRING TAKE-BREAK\n",
            "FRIEND PLAY FRISBEE WHERE IX-loc:i fs-PARK (1h)TEND PLAY FRISBEE FRIEND PLAY BUOY PLAY\n",
            "IX-1p #WHEN IX-1p INTRODUCE FRIEND FUTURE TEST IX-2p REMEMBER POSS-3p:i NAME LATER_2 INTRODUCE FRIEND TEST REMEMBER NAME\n",
            "wave no NOW THURSDAY+ MEAN TOMORROW FRIDAY+ NOW MEAN\n",
            "fs-BOB IX-loc:i (1h)VOMIT/HATE READ BOOK+ READ BOOK+\n",
            "BOX/ROOM SMALL NOT BOX/ROOM SMALL\n",
            "IX-1p WORK+\n",
            "#IF FRIEND IX-loc:i TAKE-UP PIZZA_4 EAT+NIGHT+ IX-1p BRING round flat (1h)BAKING-SPRINKLES FUTURE IX-1p FRIEND TAKE-UP NIGHT+ BRING round flat\n",
            "#NO IX-1p NOT LIKE PINEAPPLE fs-CREAM CHEESE IX-1p FAVORITE/PREFER+ fs-LOX CHEESE\n",
            "MOST FOCUS/NARROW ns-AMERICA CULTURE GIFT MEAN INTERPRET TO/UNTIL DIFFERENT-arc NOISE VOICE+ MOST FOCUS/NARROW ns-AMERICA CULTURE GIFT MEAN INTERPRET TO/UNTIL DIFFERENT-arc NOISE\n",
            "BELOW_2 ON IDEA HOW fs-HUMAN LANGUAGE EXPRESS BELOW_2 ON HOW LANGUAGE EXPRESS\n",
            "#IF fs-BOB IX-3p:i SEND RESUME GUARANTEE GET #JOB SEND RESUME GUARANTEE GET\n",
            "GO-OUT TIE_2+FISHING WHO TIE_2 FISHING\n",
            "IX-1p (1h)TEND COMMUTE BICYCLE GO-OUT WORK (25)WHY IX-1p CANNOT AFFORD fs-CAR IX-1p BICYCLE WORK CANNOT AFFORD\n",
            "IX-1p MOVE-AWAY #OUT ns-#SD (2h)#FUCK IX-1p NOT READY IX-1p STAY MOVE-AWAY (2h)#FUCK READY STAY\n",
            "HUSBAND WIFE DANCE POSS-3p:i LAST MUSIC EACH+ONE many people look at them QUIET HUSBAND WIFE DANCE LAST MUSIC EACH many people look at them QUIET\n",
            "FRIEND LOVE INTERNET SURF-INTERNET REALLY+WORK+ QMwg FRIEND LOVE INTERNET WORK+\n",
            "FRIEND GROUP/TOGETHER #FUCK NOT (5)CRASH (P)PARTY FRIEND GROUP/TOGETHER (5)CRASH (P)PARTY\n",
            "(2h)HORSE IX-loc:i TEND PLAY-continuative WHERE (2h)HORSE TEND PLAY-continuative\n",
            "(G/Q)POSS-1p FRIEND IX-LOC:i BRAVE/RECOVER PROCEED ASK DIRECT/EXPLAIN WHERE IX-1p FUTURE FINE DRIVE FRIEND BRAVE/RECOVER PROCEED DIRECT/EXPLAIN DRIVE\n",
            "BAD (5)WEATHER clouds rolling in ns-BOSTON WHEN (5)WEATHER clouds rolling in WHEN\n",
            "IX-1p MUST TAKE-UP TEST_2 AGAIN TAKE-UP TEST_2 AGAIN\n",
            "FIRST-IN-LIST THROUGH_2 (2h)TALKwg FIRST-IN-LIST THROUGH_2 SIGN+ ROAD THAT IDEA SET-UP:i SET-UP:j FIRST-IN-LIST THROUGH_2 (2h)TALKwg FIRST-IN-LIST THROUGH_2 SIGN+ ROAD SET-UP:i SET-UP:j\n",
            "IX-2p START TRIP #WHEN (1h)part:indef START\n",
            "BUT FOR THINK+MEAN THIS_2 FOCUS/NARROW ON TWO (nd-1)FIRST-AND-SECOND-IN-LIST BUT MEAN THIS_2 FOCUS/NARROW ON (nd-1)FIRST-AND-SECOND-IN-LIST\n",
            "CAT IX-3p:i POSS-1p (1h)NEXT-TO IX-3p:j FIND/FIND-OUT IX-3p:i (Y)WOW HUNGRY/WISH SMALL\n",
            "POSS-1p GIRL+CORRECT IX-3p:i FAVORITE/PREFER WATER+TUBING IX-loc:i THAN SKI (25)WHY (1h)part:indef TUBING EASY+(1h)MOST CORRECT TUBING THAN SKI TUBING EASY\n",
            "POSS-1p (2h)alt.LONG-AGO (2h)LONG-PAST FROM WHERE ns-nat-GERMANY (2h)alt.LONG-AGO (2h)LONG-PAST FROM\n",
            "TEACH+AGENT IX-3p:i REQUIRE IX-3p:j fs-JOHN MUST READ+ BOOK TEACH AGENT REQUIRE READ+ BOOK\n",
            "TEACH+AGENT REQUIRE fs-JOHN IX-3p:i FUTURE READ BOOK+ TEACH AGENT REQUIRE READ BOOK+\n",
            "#IF fs-BOB IX-3p:i PROCEED TAKE-UP WIDE DOG MUST ACCEPT (flat-O)PAY/SPEND fs-DOG EAT+ PROCEED TAKE-UP WIDE ACCEPT (flat-O)PAY/SPEND\n",
            "IX-1p HAVE APPOINTMENT (1h)NOW+AFTERNOON_2 WITH (crvd-5)POSS-1p TEACH+AGENT HAVE APPOINTMENT AFTERNOON_2 WITH TEACH AGENT\n",
            "IX-1p NOT THINK IX-3p:i PLAN GO part:indef IF+ SEE part:indef IX-1p FUTURE (1h)INFORM i:CALL-BY-PHONE:j IX-2p PLAN GO part:indef\n",
            "IX-2p WORK START #WHEN WORK START\n",
            "fs-JACK fs-SUE MEET FINISH MEET FINISH\n",
            "#IF REALLY+WORK IX-1p COMMUTE+ WORK BICYCLE IX-1p MUST GET-UP EMPTY/EARLY+(1h)MOST (nd-1)BEFORE WORK BICYCLE GET-UP EMPTY/EARLY (nd-1)BEFORE\n",
            "WHO MUST (P)PAY EVERY-MONTH/RENT+ (P)PAY EVERY-MONTH/RENT+\n",
            "FRIEND MUST DRIVE (25)WHY IX-1p TIRED IX-1p FRIEND DRIVE TIRED\n",
            "POSS-2p FRIEND GROUP/TOGETHER TRIP WHY++ (1h)part:indef FRIEND GROUP/TOGETHER\n",
            "#NO+ IX-1p RECENT-PAST #BACK_2 FROM DINNER IX-3p:i NONE/NOTHING ICE-CREAM IX-honorific:i FROM NONE/NOTHING\n",
            "MUST (1h)(flat-O)PAY/SPEND (1h)DO-DO IX-2p\n",
            "FRIEND DELIBERATE DECIDE NOT (5)CRASH (P)PARTY FRIEND DELIBERATE DECIDE (5)CRASH (P)PARTY\n",
            "MAN WHO throw out of plane AIRPLANE WHO IX-3p:i fs-ALEC-BALDWIN throw out of plane\n",
            "POSS-1p MOTHER IX-loc:i (1h)HAVE TIME+ FUTURE BRING COOKIE IX-3p:i TIME+ BRING COOKIE\n",
            "IX-1p ARRIVE SCHOOL+ fs-LATE (25)WHY IX-1p BICYCLE (5)ACCIDENT ARRIVE SCHOOL+ BICYCLE (5)ACCIDENT\n",
            "POSS-1p FATHER IX-loc:i PLAY VIDEO-GAME IX-1p (1h)TEND (1h)FORGET-IT IX-1p GO-OUT POSS-1p BOX/ROOM (25)WHY POSS-1p FATHER FEEL BORE KNOW+(1h)NEG HOW PLAY VIDEO-GAME KNOW+(1h)NEG IX-loc:i PLAY VIDEO-GAME BOX/ROOM HOW PLAY VIDEO-GAME\n",
            "FRIEND GROUP/TOGETHER PLAN SURPRISE fs-BOB WHY++ fs-BOB IX-loc:i AGE-TWENTY-ONE_2 IX-3p:i FRIEND GROUP/TOGETHER PLAN SURPRISE BUOY\n",
            "#IF IX-1p INVITE/HIRE IX-3p:i PEOPLE IX-3p-pl-arc POP-UP fs-LATE IX-3p-pl-arc SORRY FUTURE IX-3p:i PEOPLE POP-UP\n",
            "#IF POSS-1p BOSS IX-loc:i SUMMON IX-1p listen up GUARANTEE EACH+ONE-pl-arc ' KNOW-THAT IX-1p IN TROUBLE SUMMON GUARANTEE EACH ' IN TROUBLE\n",
            "fs-PHIL (1h)HAVE KID CHILDREN (1h)HOW-MANY/MANY CHILDREN\n",
            "WHEN FRIEND i:CALL-ON-RELAY/VRS-1p #VP LIGHT LIGHT-FLASH WHEN FRIEND i:CALL-ON-RELAY/VRS-1p LIGHT-FLASH\n",
            "INTERNET IX-2p LAPTOP TYPE WHAT IX-2p INTERNET LAPTOP TYPE\n",
            "IF+ (2h)IX-2p WANT+NEG PIZZA_4 CAN ORDER SPAGHETTI (2h)IX-2p WANT NEG CAN SPAGHETTI\n",
            "POSS-1p SISTER i:BLAME-1p IX-1p exasperation IX-1p INNOCENT exasperation SISTER i:BLAME-1p exasperation INNOCENT exasperation\n",
            "#NO+ IX-1p RECENT-PAST #BACK_2 FROM DINNER IX-3p:i NONE/NOTHING ICE-CREAM IX-honorific:i FROM NONE/NOTHING\n",
            "IX-3p:i DOG CHASE CAT THAT IX-3p:i #DOG IX-3p:i NOT POSS-1p+ IX-3p:i CHASE IX-3p:i\n",
            "SELF-3p:i+ MOVIE REALLY SCARE+ BUOY MOVIE SCARE+\n",
            "#IF IX-3p:i FRIEND IX-loc:i FINISH HOMEWORK+ EMPTY/EARLY GUARANTEE LAPTOP TYPE INTERNET ALL-NIGHT (1h)part:indef FRIEND FINISH HOMEWORK+ EMPTY/EARLY GUARANTEE LAPTOP TYPE INTERNET ALL-NIGHT\n",
            "WHY IX-2p WORK ALL-NIGHT WHY part:indef WORK ALL-NIGHT part:indef\n",
            "DIFFERENT EXPERIENCE BELONG WITH MEAN DIFFERENT BELONG WITH MEAN\n",
            "HUNGRY/WISH HAVE PINEAPPLE fs-CREAM CHEESE HAVE CHEESE\n",
            "BOY+ NEVER GO-OUT HOME (1h)part:indef\n",
            "fs-BILL PLAN (1h)MOVE ns-NEW-YORK QMwg PLAN ns-NEW-YORK\n",
            "FRIEND GO-OUT (P)PARTY FRIEND (P)PARTY\n",
            "IF IX-1p ARRIVE WORK LATE POSS-1p BOSS FUTURE FIRED IX-1p (1h)part:indef ARRIVE WORK FIRED\n",
            "WHO SICK WHO SICK\n",
            "PLEASE/(1h)ENJOY+ IF HURRICANE+ GAME+ DECIDE CANCEL/CRITICIZE HURRICANE+ GAME+ DECIDE CANCEL/CRITICIZE\n",
            "#IF+ IX-1p+ GO HEARING SCHOOL IX-1p (nd-1)LOOK-AROUND WHY NONE/NOTHING COMMUNICATE part:indef GO SCHOOL (nd-1)LOOK-AROUND NONE/NOTHING COMMUNICATE part:indef\n",
            "#IF FRIEND PLAY FRISBEE IX-1p FUTURE JOIN PLAY IX-1p FRIEND PLAY JOIN PLAY\n",
            "#IF IX-1p ENJOY CHAT:i WITH IX-3p-pl-2:i/j MEAN IX-1p MUST CHAT:k #ALL fs-BU ENJOY CHAT:i WITH MEAN CHAT:k\n",
            "FRIEND GO-OUT TRIP FRIEND\n",
            "FRIEND IX-3p-pl-arc (1h)TEND TYPE LAPTOP INTERNET FRIEND TYPE LAPTOP INTERNET\n",
            "FRIEND NOT-YET GROUP/TOGETHER group go together fs-BEACH NOT-YET+ FRIEND GROUP/TOGETHER group go together\n",
            "IX-2p (1)SEND LETTER/MAIL_2 WHO LETTER/MAIL_2\n",
            "THAT MAN fs-JIM PUNCH IX-loc:i THREAT AGAINST IX-3p:j IX-3p:i BUOY THREAT AGAINST\n",
            "#IF REALLY+WORK AUNT MAKE BLUE+fs-BERRY PIE FINISH ZOOM-OFF HOME GOBBLE-UP WORK MAKE PIE FINISH ZOOM-OFF GOBBLE-UP\n",
            "IX-2p WANT_2 #VP WHERE (1h)part:indef WANT_2\n",
            "IX-1p WARM wave no IX-1p COLD_2\n",
            "FUTURE GO-OUT #PO (1h)part:indef WHO (1h)part:indef\n",
            "AUNT IX-loc:i NOT EXPERT MAKE+ APPLE PIE MAKE+ PIE\n",
            "FRIEND IX-loc:i KISS-FIST LAPTOP TYPE INTERNET FRIEND LAPTOP TYPE INTERNET\n",
            "#WHEN TEACH+AGENT IX-3p:i FINISH NICE/CLEAN CLASS+BOX/ROOM (1h)TEND IX-3p:i LOCK (nd-1)GATE TEACH AGENT FINISH NICE/CLEAN CLASS BOX/ROOM LOCK (nd-1)GATE\n",
            "MUST #VP WHY++ (1h)part:indef CAN TEXTING part:indef CAN TEXTING part:indef\n",
            "IX-1p+ LOVE MOVIE_2++ POSS-1p FAVORITE/PREFER++ WHAT fs-COMEDY #OR MONSTER MOVIE_2+ LOVE MOVIE_2++ WHAT MONSTER MOVIE_2+\n",
            "IX-3p:i WANT+NEG NONE/NOTHING_2 (1h)part:indef WANT NEG NONE/NOTHING_2\n",
            "#IF+ IX-1p GO-OUT EAT WHO (P)PAY part:indef (P)PAY part:indef\n",
            "WHO ACCEPT IX-3p:i BIG fs-DOG IX-loc:i ACCEPT BIG\n",
            "HUSBAND WIFE DANCE POSS-3p WEDDING WHY HUSBAND WIFE DANCE WEDDING\n",
            "TEACH+AGENT IX-loc:i SICK-OF NICE/CLEAN+ CLASS+BOX/ROOM TEACH AGENT SICK-OF NICE/CLEAN+ CLASS BOX/ROOM\n",
            "FRIEND GROUP/TOGETHER GO-OUT (P)PARTY+ FRIEND GROUP/TOGETHER (P)PARTY+\n",
            "THAT STUDENT ON fs-QUIZ ACT IX-3p:i THAT IX-loc:i NOT WIN IX-3p:i (1h)part:indef STUDENT ON ACT WIN\n",
            "IX-1p NOTHING-AT-ALL CAR part:indef CAR part:indef\n",
            "IX-1p MUST DISCUSS HOW IX-1p CONFRONT TEACH+AGENT REGULAR part:indef DISCUSS HOW CONFRONT TEACH AGENT REGULAR part:indef\n",
            "wave no THAT NOT fs-SARAH-JESSICA-PARKER THAT fs-WAS fs-SARAH-PALIN DIFFERENT++\n",
            "IX-1p RECENT-PAST READ+ BOOK NOTICE ONE BOOK-PAGE+ missing page READ+ BOOK NOTICE BOOK-PAGE+ missing page\n",
            "FRIEND IX-loc:i ' GO-OUT LOOK (nd-1)MOVIE WHO JOIN FRIEND ' (nd-1)MOVIE JOIN\n",
            "#IF 1p-LOOK SEE THAT fs-BEACH IX-3p-pl-arc CROWDED PEOPLE IX-1p (1h)FORGET-IT IX-1p WANT+NEG GO-OUT CROWDED PEOPLE WANT NEG\n",
            "#NO++ IX-3p:i NOT VEGETABLE IX-3p:i EAT MEAT YES MEAT\n",
            "IX-1p WORK IX-1p WORK\n",
            "IX-3p:i WANT+NEG IX-1p DOUBT IX-1p THINK IX-3p:i WANT NEG WANT\n",
            "POSS-1p FRIEND IX-3p:i person passed out PAST+NIGHT PARTY-HARD WOW (25)WHY POSS-3p:i BIRTHDAY FRIEND person passed out NIGHT PARTY-HARD\n",
            "#WHEN IX-3p:i FRIEND CALL-BY-PHONE IX-1p IX-loc:i #VP (1h)TEND LIGHT-FLASH++ friend FRIEND LIGHT-FLASH++\n",
            "#NO++ BEAUTIFUL sky up there SUNSHINE WARM (2h)SHINE BEAUTIFUL part:indef (2h)SHINE (1h)part:indef part:indef\n",
            "IX-2p FINISH WORK WHEN IX-2p FINISH WORK WHEN\n",
            "#WHEN IX-3p:i fs-BOB (2h)alt.FIRE IX-1p FUTURE RAKE fs-LOGS FEED+ (2h)alt.FIRE++ (2h)alt.FIRE RAKE FEED+ (2h)alt.FIRE++\n",
            "THAT VIDEO-GAME IX-loc:i NOT LIKE (25)WHY (1h)part:indef VIDEO-GAME BUOY\n",
            "GO-OUT+ SNOW SCHOOL QMwg CLOSE-DOOR part:indef SNOW SCHOOL CLOSE-DOOR part:indef\n",
            "fs-JEN fs-JOE IX-3p-pl-2:i/j MARRY QMwg MARRY\n",
            "#NO++ IX-1p RECENT-PAST FINISH HOMEWORK IX-1p FINISH HOMEWORK\n",
            "IX-2p (1h)TEND CHAT WITH fs-JESSICA AND fs-DONNA (1h)DO-DO (25)WHY WITH\n",
            "fs-LIZ SISTER IX-3p:i FAMOUS WHO SISTER FAMOUS\n",
            "fs-NETFLIX RECENT-PAST SEND IX-1p recieve DVD fs-DVD DVD (1h)SCRAPE (1h)part:indef SEND recieve DVD DVD\n",
            "(5)POSS-1p FATHER IX-3p:i LAZY IX-3p:i REFUSE MOW+ REFUSE BUOY MOW+\n",
            "#IF IX-3p:i NOT BORE IX-1p FUTURE READ IX-1p part:indef READ part:indef\n",
            "person passed out (2h)DRUNK PAST_2+NIGHT (25)WHY (1h)part:indef person passed out (2h)DRUNK NIGHT\n",
            "NONE/NOTHING_2 CAR IX-1p part:indef NONE/NOTHING_2 CAR part:indef\n",
            "IX-1p WORK ALL-NIGHT (25)WHY IX-1p WANT_2 SHOULD+ fs-EXTRA MONEY+ WORK ALL-NIGHT WANT_2 MONEY+\n",
            "FRIEND group go together DIFFERENT MOVIE WHY IX-3p:i FAVORITE/PREFER ACTION MOVIE FRIEND group go together DIFFERENT MOVIE ACTION MOVIE\n",
            "#IF AUNT REALLY+WORK PROCEED MAKE+ BLUE BERRY PIE wave no IX-1p MUST GO eat with two forks (2h)alt.EAT WORK PROCEED MAKE+ BERRY PIE wave no GO eat with two forks (2h)alt.EAT\n",
            "wave no SERIOUS CAR BREAK-DOWN IX-1p (1h)KEY++ CORRECT part:indef CAR BREAK-DOWN CORRECT part:indef\n",
            "#NO++ CLASS NEXT-WEEK HAVE CLASS NEXT-WEEK HAVE\n",
            "FRIEND IX-3p:i GROUP/TOGETHER group go together fs-BEACH people tanning SUN TAN woah IX-1p MUST BRING squeeze lotion rub lotion applying lotion NONE/NOTHING (2h)#BURN FRIEND GROUP/TOGETHER group go together people tanning woah BRING squeeze lotion rub lotion applying lotion NONE/NOTHING (2h)#BURN\n",
            "wave no POSS-1p+ MOTHER+ VOMIT/HATE SURPRISE+ wave no VOMIT/HATE SURPRISE+ wave no\n",
            "FRIEND GROUP/TOGETHER group go together MOVIE_2 ACT+ WHO JOIN FRIEND GROUP/TOGETHER group go together MOVIE_2 ACT+ JOIN\n",
            "(crvd-L)POSS-1p FRIEND KISS-FIST LAPTOP TYPE INTERNET (25)WHY USE+ fs-GOOGLE fs-CHROME VERY-FAST FRIEND LAPTOP TYPE INTERNET USE+ VERY-FAST\n",
            "STUDENT IX-loc:i REFUSE HEAR/LISTEN TEACH+AGENT IX-3p:i STUDENT TEACH AGENT\n",
            "REALLY A-LOT INCLUDE/INVOLVE TO/UNTIL FULL IN THAT GROUP/TOGETHER MAJOR A-LOT INCLUDE/INVOLVE TO/UNTIL FULL IN GROUP/TOGETHER MAJOR\n",
            "#NO IX-1p NOT AFRAID fs-OF HIGH part:indef DO-DO MAKE IX-2p THINK THAT (1h)part:indef AFRAID part:indef DO-DO MAKE\n",
            "ASK FOR DIRECT part:indef WHO DIRECT part:indef IX-3p-honorific:i\n",
            "FRIEND IX-loc:i KISS-FIST GO (1h)FISHING++ (25)WHY LOVE NEW FISH FOR EAT+NIGHT+ FRIEND GO LOVE NEW FISH NIGHT+\n",
            "POSS-2p:i FAMILY VACATION EVERY-YEAR (1h)TEND WHERE FAMILY VACATION EVERY-YEAR\n",
            "IX-1p WARM LATER_2 HOT\n",
            "THAT (1h)EXPAND EXPERIENCE COOPERATE/UNITE (1h)FIRST-IN-LIST (1h)SECOND-IN-LIST COOPERATE/UNITE\n",
            "#IF (2h)HORSE PLAY-continuative FARM running NIGHT+ READY BED FUTURE PASS-OUT_3 (2h)HORSE PLAY-continuative running NIGHT+ READY\n",
            "WHO SICK\n",
            "#IF POSS-1p FRIEND IX-3p:i START VIDEO-GAME CONTINUE TO/UNTIL eyes falling out FOR REALLY FRIEND START VIDEO-GAME CONTINUE TO/UNTIL eyes falling out\n",
            "FRIEND WANT_2 BUY PLAID (2h)SHIRT FRIEND WANT_2 BUY (2h)SHIRT\n",
            "STUDENT IX-3p:i WIN TROPHY IX-loc:i GET ONE+HUNDRED DOLLAR_2 PAPER-CHECK/CARD STUDENT WIN TROPHY GET DOLLAR_2 PAPER-CHECK/CARD\n",
            "KNOW WHO KISS-FIST LOOK FIREWORKS QMwg FIREWORKS\n",
            "BRACELET POSS-1p BROTHER RECENT-PAST FIND/FIND-OUT THAT BRACELET REALLY+WORK GOLD/ns-CALIFORNIA circular bracelet wow BRACELET BROTHER BRACELET WORK circular bracelet\n",
            "IF+ RAIN TOMORROW IX-1p ARRIVE UNCLE HOUSE STAY IN+ RAIN ARRIVE HOUSE STAY IN+\n",
            "KNOW-THAT SOMETHING/ONE BUY CAR hey WHO++ BUY CAR\n",
            "VIDEO-GAME IX-loc:i EASY BEAT_2 VIDEO-GAME EASY BEAT_2\n",
            "POSS-1p FRIEND FISHING (1h)FISH IX-1p HURRY IX-1p bucket fill bucket move bucket FISH throw fish in bucket WHY++ FOR EAT+NIGHT FRIEND FISHING HURRY bucket fill bucket move bucket FISH throw fish in bucket NIGHT\n",
            "fs-JACK (1h)HAVE (1h)(flat-O)PAY/SPEND+ QMwg (1h)part:indef\n",
            "FRIEND TAKE-UP EAT+NIGHT+ round flat PIZZA_4 WHEN FRIEND TAKE-UP NIGHT+ round flat WHEN\n",
            "#WHEN REALLY+WORK MOVE-AWAY ns-#SD IX-1p MUST GET CAR LICENSE IX-1p WORK MOVE-AWAY GET CAR LICENSE\n",
            "WANT #VP WHERE WANT\n",
            "WHO GO-OUT #PO (1h)part:indef\n",
            "CAT IX-3p:i POSS-1p (1h)NEXT-TO IX-3p:j FIND/FIND-OUT IX-3p:i (Y)WOW HUNGRY/WISH SMALL\n",
            "WHO IX-3p-pl-arc FIND/FIND-OUT IX-1p KEY (1h)part:indef KEY\n",
            "#IF KID IX-loc:i PLAY-continuative fs-PARK IX-loc:i (1h)part:indef FUTURE TIRED LATER_2 AFTERNOON_3 PLAY-continuative TIRED AFTERNOON_3\n",
            "IX-1p MOVE-AWAY ns-#SD (25)WHY (1h)part:indef NEW WORK (2h)IX-honorific:i MOVE-AWAY NEW WORK (2h)IX-honorific:i\n",
            "IX-2p WANT #BBQ GROUP/TOGETHER WHAT IX-2p WANT GROUP/TOGETHER WHAT\n",
            "#IF IX-1p DECIDE FORGET-IT IX-1p WANT+NEG SWIM fs-BEACH IX-1p DO-DO WATER shoreline IX-1p FUTURE SCL:3person walking at waters edge DECIDE FORGET-IT WANT NEG SWIM DO-DO waves water's edge\n",
            "FRIEND GROUP/TOGETHER GO-OUT TRIP FRIEND GROUP/TOGETHER\n",
            "COAT IX-2p RECENT-PAST BUY FACE WARM (Y)WOW COAT BUY\n",
            "IX-1p LOVE GET-IN+ AIRPLANE (2h)alt.FLY-BY-PLANE DIFFERENT PLACE LOVE GET-IN+ (2h)alt.FLY-BY-PLANE DIFFERENT PLACE\n",
            "#NO++ (nd-1)MOVIE START TIME TEN++ (nd-1)MOVIE START TIME\n",
            "fs-BOB GIVE SWEETHEART WHAT SWEETHEART WHAT\n",
            "POSS-1p FRIEND (1h)WOW/AWFUL PLAY VIDEO-GAME ALL-DAY (25)WHY IX-loc:i DO-DO NOTHING FRIEND PLAY VIDEO-GAME ALL-DAY DO-DO NOTHING\n",
            "#IF fs-OJ IX-loc:i INNOCENT part:indef POSS-1p GRANDMOTHER CAN BICYCLE INNOCENT part:indef CAN BICYCLE\n",
            "(1h)GOOD/THANK-YOU WEATHER IX-loc:i ARRIVE ns-BOSTON (2h)NOT-YET HURRY part:indef WEATHER ARRIVE (2h)NOT-YET HURRY part:indef\n",
            "fs-MARY GO COLLEGE WHICH+ GO COLLEGE WHICH+\n",
            "COOK/KITCHEN EAT+NIGHT+ WHO COOK/KITCHEN NIGHT+\n",
            "PEOPLE DIFFERENT-arc CULTURE NOT ONLY (2h)TALKwg DIFFERENT LANGUAGE PEOPLE DIFFERENT-arc CULTURE (2h)TALKwg DIFFERENT LANGUAGE\n",
            "wave no fs-MITT-ROMNEY IX-3p:i SELF-3p+:i MORMON fs-RICK-PERRY IX-3p:j NOT IX-3p:j BUOY\n",
            "FRIEND GROUP/TOGETHER group go together fs-BEACH FOR-FOR+ part:indef FRIEND GROUP/TOGETHER group go together (1h)part:indef part:indef\n",
            "WHEN FRIEND IX-loc:i OVER-IT IX-1p switch seats IX-1p DRIVE IX-1p WHEN FRIEND OVER-IT switch seats DRIVE\n",
            "FRIEND LOOK FORGET-IT GO-OUT BUT (nd-1)MOVIE (25)WHY IX-3p:i FAVORITE/PREFER ACTION fs-ACTION AND MONSTER fs-HORROR FRIEND GO-OUT BUT (nd-1)MOVIE ACTION MONSTER\n",
            "FRIEND FINISH CAR QMwg FRIEND FINISH CAR\n",
            "DRESS/CLOTHES ON #SALE WHERE DRESS/CLOTHES ON\n",
            "VIDEO-GAME IX-loc:i EASY BEAT_2 QMwg VIDEO-GAME EASY BEAT_2\n",
            "wave no IX-1p USE CORRECT (1h)KEY++ IX-loc:i CAR BREAK-DOWN USE CORRECT CAR BREAK-DOWN\n",
            "wave no REFUSE RAIN you see #IF+ RAIN you know GAME+ FOR REALLY CANCEL/CRITICIZE RAIN you see RAIN you know GAME+ CANCEL/CRITICIZE\n",
            "ARRIVE #LATE WHO ARRIVE\n",
            "SOMETHING/ONE BUY CAR WHO part:indef BUY CAR part:indef\n",
            "wave no NOT EAT COOKIE wave no IX-loc:i WITH BUTTER+ wave no ok  hey IX-1p LIKE BUT #IF IX-3p:i BUTTER+ IX-1p NOT-CARE (1h)part:indef wave no COOKIE wave no WITH BUTTER+ wave no ok  hey BUT BUTTER+\n",
            "IX-2p WORK WHERE WORK\n",
            "ns-#AA IX-loc:i well NOT EXPENSIVE part:indef #IF REALLY+WORK EXPENSIVE part:indef IX-1p STUCK WHY flying back and forth ns-BOSTON ns-#FLA ALONE ns-#AA (1h)part:indef well EXPENSIVE part:indef WORK EXPENSIVE part:indef BUOY\n",
            "COAT IX-2p RECENT-PAST BUY FACE WARM (Y)WOW COAT BUY\n",
            "#VP CLEAR\n",
            "IX-1p WANT+NEG BUY SHORTS IX-1p WANT NEG BUY SHORTS\n",
            "#IF DRESS/CLOTHES ON #SALE GUARANTEE FRIEND IX-1p-pl-arc ' GO-OUT fs-MALL DRESS/CLOTHES ON GUARANTEE FRIEND '\n",
            "IX-1p NOT LIKE TALKwg ASK FOR DIRECT IX-3p:i I don't know IX-1p NOT LIKE IX-1p DIRECT I don't know\n",
            "FRIEND PLAY FRISBEE (2h)NOT-YET FRIEND PLAY (2h)NOT-YET\n",
            "(1h)HAPPY+ NOT (1h)HAPPY+ #NO+\n",
            "HOW-MANY CHILDREN fs-PHIL HAVE (1h)part:indef HOW-MANY CHILDREN HAVE\n",
            "IX-1p LOOK MOVIE PAST+NIGHT IX-1p AFRAID (1h)WOW/AWFUL MOVIE NIGHT AFRAID\n",
            "BUT MAYBE MORE IMPORTANT emphasis LIVE IN DIFFERENT fs-SENSORY WORLD BUT MAYBE MORE IMPORTANT emphasis LIVE IN DIFFERENT WORLD\n",
            "ARRIVE fs-LATE FINE IX-1p MUST CALL-BY-PHONE IX-3p:i RESTAURANT POSTPONE APPOINTMENT ARRIVE POSTPONE APPOINTMENT\n",
            "PAST MONDAY IX-1p you know KNOW-THAT FUTURE RAIN NEXT fs-DAY RAIN NEXT\n",
            "IX-1p NOT\n",
            "NOW+ ECONOMIC CRISIS NOW+ ECONOMIC CRISIS NOW+\n",
            "FRIEND SCL:crvd-5group go together GO-OUT (nd-1)MOVIE ACT IX-loc:i (2h)NOT-YET (25)WHY TRAFFIC_2 FRIEND SCL:crvd-5group go together (nd-1)MOVIE ACT (2h)NOT-YET TRAFFIC_2\n",
            "fs-SUE IX-3p:i MOVE WHERE++ MOVE\n",
            "IN NINETEEN EIGHTY-TWO IX-3p:i WRITE QUOTE/TOPIC IN WRITE QUOTE/TOPIC\n",
            "POSS-1p FRIEND FAVORITE/PREFER #VP TEXTING_3 (1h)FORGET-IT (25)WHY CAN USE-SIGN-LANGUAGE #ASL FRIEND TEXTING_3 CAN USE-SIGN-LANGUAGE\n",
            "IX-3p:i fs-MARY IX-loc:i NOT (1h)HAPPY IX-3p:i (1h)part:indef IX-3p-pl-arc NONE/NOTHING_2+ONE (1h)HAPPY part:indef NONE/NOTHING_2 part:indef\n",
            "IX-1p FINISH KNOW+ HAVE PINEAPPLE fs-CREAM CHEESE+ FINISH HAVE CHEESE+\n",
            "#WHEN IX-1p-pl-arc ARRIVE ns-INDIA IX-loc:i MUST 1p-SEND/MAIL:j FAMILY PAPER-CHECK/CARD THANK-YOU+ FOR SUPPORT+ ARRIVE FAMILY PAPER-CHECK/CARD THANK-YOU+ SUPPORT+\n",
            "fs-JOHN IX-loc:i NOT SEE IX-1p NONE/NOTHING\n",
            "(25)WHY IX-1p WORK ALL-NIGHT (25)WHY (1h)part:indef WORK ALL-NIGHT\n",
            "IX-2p (1h)VOMIT/HATE VIDEO-GAME IX-loc:i (25)WHY IX-loc:i VIDEO-GAME\n",
            "WHO (1h)ACCEPT IX-3p:i BIG #DOG BUOY BIG\n",
            "IX-1p THINK (Y)WOW BORE IX-1p\n",
            "#IF+ IX-2p FIND/FIND-OUT (G/Q)POSS-1p KEY around here NOT-MIND+ 2p-GIVE-1p KEY\n",
            "POSS-1p SISTER HATE WATER SKI (25)WHY HARD skiing back and forth BALANCE HARD SISTER HATE SKI HARD skiing back and forth BALANCE HARD\n",
            "#IF FATHERwg IX-loc:i ARRIVE HOME fs-LATE IX-3p:j REFUSE REASON IX-3p:j NOT fs-AT HOME ARRIVE\n",
            "MUST (P)PAY EVERY-MONTH/RENT WHO (P)PAY EVERY-MONTH/RENT\n",
            "IX-2p GRADUATE #HS WHEN GRADUATE WHEN\n",
            "#IF++ RAIN TOMORROW WHEN ARRIVE UNCLE HOUSE STAY IN++ RAIN WHEN ARRIVE HOUSE STAY IN++\n",
            "GO-OUT+ SNOW+ SCHOOL FUTURE CANCEL/CRITICIZE QMwg SNOW+ SCHOOL CANCEL/CRITICIZE\n",
            "WHO FUTURE GO #PO GO\n",
            "FRIEND NOW SURF-INTERNET INTERNET FRIEND NOW INTERNET\n",
            "wave no PINEAPPLE fs-CREAM CHEESE wave no BETTER fs-LOX IX-1p hands off wave no CHEESE wave no hands off\n",
            "IX-1p (1h)TEND WORK-OUT+ OVER/AFTER CLASS WORK-OUT+ OVER/AFTER CLASS\n",
            "IX-2p MUST MOVE-AWAY ns-#SD (25)WHY (1h)part:indef MOVE-AWAY\n",
            "wave no fs-MITT-ROMNEY IX-3p:i SELF-3p+:i MORMON fs-RICK-PERRY IX-3p:j NOT IX-3p:j BUOY\n",
            "YESTERDAY ALL-DAY IX-1p WORK++ ALL-DAY WORK++\n",
            "fs-JOHN IX-loc:i NOT BUY TURKEY #NO+ IX-3p:j fs-JAMES BUY TURKEY BUY\n",
            "#IF fs-BOB IX-loc:i MAKE-IT SURPRISE POSS-2p SURPRISE (P)PARTY WOW+ IX-1p APPLAUSE POSS-1p FRIEND IX-loc:j (25)WHY IX-3p:i fs-BOB IX-loc:i HARD SURPRISE HARD MAKE-IT SURPRISE (P)PARTY APPLAUSE FRIEND HARD SURPRISE HARD\n",
            "MOTHER #OK-1p IX-1p GO-OUT GUITAR IX-1p THRILL/WHAT'S-UP GUITAR THRILL/WHAT'S-UP\n",
            "REALLY SELF-3p:i+ OLD NOT IMPORTANT (1h)part:indef BUOY IMPORTANT\n",
            "TEACH+AGENT NOT REQUIRE BOOK READ DROP IX-3p:i fs-JOHN FUTURE READ BOOK I don't know TEACH AGENT REQUIRE BOOK READ DROP READ BOOK I don't know\n",
            "wave no IX-1p NEVER RUN fs-MARATHON PAST wave no IX-1p NOT PLAN START NOW whoa RUN PLAN START NOW whoa\n",
            "IX-1p 1p-ASK:i POSS-1p TEACH+AGENT FOR SOME ADVISE/INFLUENCE IX-1p DISCUSS++ part:indef TEACH AGENT SOME ADVISE/INFLUENCE DISCUSS++ part:indef\n",
            "FINE wave no ns-MCDONALD IX-loc:i VERY-FAST EAT RESTAURANT IX-3p:i (2h)GIVE-distributive HAMBURGER part:indef ns-MCDONALD VERY-FAST (2h)GIVE-distributive HAMBURGER part:indef\n",
            "GO-OUT+ RAIN wave no (1)TEMPERATURE-DROP SNOW RAIN wave no (1)TEMPERATURE-DROP SNOW\n",
            "STUDENT IX-loc:i REFUSE HEAR/LISTEN TO/UNTIL TEACH+AGENT (1h)part:indef STUDENT BUOY TO/UNTIL TEACH AGENT\n",
            "WHO (1h)(flat-O)PAY/SPEND fs-RENT WHO\n",
            "wave no IX-1p GO-OUT HANDSOME/ns-HAWAII_2+ FOR SPRING TAKE-BREAK SPRING TAKE-BREAK\n",
            "FINISH BUY CAR+ WHO FINISH BUY CAR+\n",
            "FRIEND group go together WATCH-TV BUT (nd-1)MOVIE (25)WHY IX-3p:i FAVORITE/PREFER SOMETHING/ONE DIFFERENT (1h)part:indef FRIEND group go together BUT (nd-1)MOVIE DIFFERENT\n",
            "(alt-G/bent-L)POSS-1p SISTER LIKE ns-BOSTON (2h)KNOW+NEG SISTER (2h)KNOW NEG\n",
            "fs-BOB IX-loc:i NOT-YET GO #PO IX-3p:i GO\n",
            "IX-2p NOT LIE-DOWN DRUNK IX-2p LIE-DOWN\n",
            "IX-3p:i PARK RED STOPLIGHT CAR (3)ACCIDENT IX-3p:i+ USE PHONE (1h)part:indef PARK CAR (3)ACCIDENT USE\n",
            "IF+ SON BORN TOMORROW BORN YEAR TWO_2+ZERO+THIRTEEN (1h)part:indef SON BORN YEAR\n",
            "BUY CAR WHO part:indef BUY CAR part:indef\n",
            "IX-1p+ NOT EXPERT REMEMBER+ NEW PEOPLE NAME part:indef REMEMBER+ NEW PEOPLE NAME part:indef\n",
            "BOY+ ARRIVE HOME ARRIVE\n",
            "IX-3p:i BUY CAR WHAT KIND BUY CAR WHAT KIND\n",
            "(G/Q)POSS-1p OFFICE POSS-1p BOSS WORK ABOVE IX-loc:i+ OFFICE WORK ABOVE\n",
            "NOTICE OH-I-SEE IX-3p:i BABY (1h)VOMIT/HATE FIREWORKS CRY++ NOTICE BABY FIREWORKS CRY++\n",
            "UNDERSTAND+ IX-3p:i (2h)TALKwg MINOR (1h)HAVE ADD-TO USE GESTURE SAME ALSO SIGN+ MAJOR (1h)HAVE ADD-TO USE TWO VOICE+ (1h)CURRENT-TOPIC (2h)TALKwg MINOR ADD-TO USE GESTURE ALSO SIGN+ MAJOR (1h)HAVE ADD-TO USE IX-3p:j IX-honorific:j\n",
            "FRIEND SCL:crvd-5group go together fs-BEACH FOR-FOR+ (1h)part:indef FRIEND SCL:crvd-5group go together\n",
            "IF+ fs-JACK HAVE WIFE IX-3p:i LOVE IX-3p:j HAVE WIFE LOVE\n",
            "MOTHER+FATHER GUARANTEE FUTURE MAD NOT (1h)HAPPY #IF CHILDREN REALLY+WORK DYE HAIR COLOR ORANGE GUARANTEE CHILDREN WORK DYE\n",
            "PAST+NIGHT IX-1p PLAY+ (crvd-5)BASKETBALL SCRIMMAGE WITH FRIEND (Y)WOW+ (baby-O)BY-A-HAIR (1h)BEAT THIRTY+ TWENTY-EIGHT NIGHT PLAY+ (crvd-5)BASKETBALL SCRIMMAGE WITH FRIEND\n",
            "IX-2p GO WHERE (1h)part:indef GO\n",
            "IX-1p #FUCK not a big deal IX-1p NOT MOVE-AWAY ns-#SD (25)WHY IX-1p NOT READY part:indef MOVE-AWAY READY part:indef\n",
            "IX-1p SHOULD BUY SHORTS (25)WHY IX-loc:i WOW OUT+ HOT BUY SHORTS\n",
            "fs-BOB IX-loc:i GIVE:j GIRL+FRIEND IX-loc:j (1h)DO-DO (1h)part:indef BUOY FRIEND BUOY\n",
            "(5)POSS-1p FRIEND IX-loc:i do nothing NONE/NOTHING FUTURE PROCEED VIDEO-GAME ALL-DAY FRIEND do nothing NONE/NOTHING PROCEED VIDEO-GAME ALL-DAY\n",
            "#IF+ FRIEND GROUP/TOGETHER DEPART FISHING+ IX-1p CHECK (5)WEATHER MAKE REALLY fs-OK FRIEND GROUP/TOGETHER FISHING+ CHECK (5)WEATHER MAKE\n",
            "TIME+ FRIEND (5)CRASH (P)PARTY part:indef TIME (1h)part:indef TIME+ FRIEND (5)CRASH (P)PARTY part:indef TIME\n",
            "SOMETHING/ONE IX-3p-pl-arc FIND/FIND-OUT POSS-1p KEY WHICH WHO IX-3p-pl-arc KEY WHICH\n",
            "PAST+NIGHT (5)ACCIDENT long line of cars (1h)WOW/AWFUL NIGHT (5)ACCIDENT long line of cars\n",
            "CAR IX-3p:i (1h)(flat-O)PAY/SPEND YESTERDAY DO-DO+ KIND part:indef CAR DO-DO+ KIND part:indef\n",
            "FINEwg #IF IX-1p MOW MOTHER FUTURE GIVE-1p TWENTY DOLLAR MOW DOLLAR\n",
            "#WHEN IX-1p ARRIVE SCHOOL+ IX-1p MUST TEXTING_3 1p-INFORM:j MOTHER+ IX-1p FINISH ARRIVE SAFE ARRIVE SCHOOL+ TEXTING_3 1p-INFORM:j FINISH ARRIVE SAFE\n",
            "#NO+ IX-3p:i (L)LIVE (L-X)SMALL #APT IN CITY/COMMUNITY fs-CITY IX-3p:i (L)LIVE (L-X)SMALL IN CITY/COMMUNITY\n",
            "IX-1p RECENT-PAST DRINK TASTE FINE++ (1h)part:indef\n",
            "IX-2p WRONG IX-3p:i NOT PINEAPPLE fs-CREAM CHEESE IX-1p FAVORITE/PREFER fs-LOX CHEESE\n",
            "#NO+ IX-1p NOT GO-OUT:i\n",
            "SICK WHO SICK\n",
            "tube skipping on water (1h)part:indef TIME++ (1h)part:indef tube skipping on water TIME++\n",
            "IX-2p PLAN TRIP WHERE (1h)part:indef PLAN\n",
            "HUSBAND WIFE IX-3p:i NOT DANCE+ HUSBAND WIFE DANCE+\n",
            "IX-3p:i PARK RED STOPLIGHT CAR (3)ACCIDENT IX-3p:i+ USE PHONE (1h)part:indef PARK CAR (3)ACCIDENT USE\n",
            "wave no REFUSE RAIN you see #IF+ RAIN you know GAME+ FOR REALLY CANCEL/CRITICIZE RAIN you see RAIN you know GAME+ CANCEL/CRITICIZE\n",
            "REALLY POSS-1p+ OPPOSITE FRIEND DO-DO+ ALARM+ OPPOSITE FRIEND DO-DO+ ALARM+\n",
            "#NO++ IX-1p RECENT-PAST #BACK_2 FROM DINNER IX-3p:i HAVE ICE-CREAM IX-3p:i (1h)part:indef FROM\n",
            "GO-OUT NONE/NOTHING_2 RAIN (1h)WAIT WAIT-A-MINUTE NONE/NOTHING_2 RAIN\n",
            "CANNOT DISTRIBUTE NUT+BUTTER IX-3p:i fs-BETH IX-loc:i wow ALLERGY NUT+ IX-3p:i CANNOT DISTRIBUTE BUTTER ALLERGY\n",
            "FINISH GRADUATE #HS IX-2p FINISH GRADUATE\n",
            "FRIEND IX-3p-pl-arc (P)PARTY+ (1h)GOOD/THANK-YOU FRIEND (P)PARTY+\n",
            "IX-2p LIE-DOWN PAST+NIGHT WHY (1h)part:indef LIE-DOWN NIGHT\n",
            "fs-PETE IX-3p:i LOVE TAPE-RECORDING IX-3p:i (1h)HAVE THREE three computers next to each other POSS-3p:i HOME WOW LOVE TAPE-RECORDING three computers next to each other\n",
            "PLEASE/(1h)ENJOY+ IF HURRICANE+ GAME+ DECIDE CANCEL/CRITICIZE HURRICANE+ GAME+ DECIDE CANCEL/CRITICIZE\n",
            "(1h)part:indef IX-1p LIKE IX-3p:i #IF IX-3p:i (1h)HAVE BUTTER IN+ oh well FINE IX-1p part:indef BUTTER IN+ oh well part:indef\n",
            "#IF MOTHERwg GO-OUT SELL IX-3p:i FUTURE BUY MILK SELL BUY\n",
            "EAT SELL+ WHERE++ SELL+\n",
            "WHO (1h)TEND COMMUTE WORK BICYCLE part:indef WORK BICYCLE part:indef\n",
            "IX-2p FACE NOT FEEL (1h)GOOD/THANK-YOU IX-3p:j #OK IX-2p WRONG+ (1h)part:indef\n",
            "fs-BILL IX-loc:i MOVE ns-NEW-YORK FUTURE MOVE ns-NEW-YORK\n",
            "HEAR/LISTEN TEACH+AGENT WHO TEACH AGENT\n",
            "IX-1p 1p-MEET-3p-pl-arc NEW PEOPLE IX-1p LOUSY MEMORIZE POSS-3p-pl-arc NAME IX-1p 1p-MEET-3p-pl-arc NEW PEOPLE NAME\n",
            "BIG #DOG IX-loc:i (1h)ACCEPT WHO BIG BUOY\n",
            "IX-1p VERY NOT (1h)HAPPY+ VERY\n",
            "FINE wave no ns-MCDONALD IX-loc:i VERY-FAST EAT RESTAURANT IX-3p:i (2h)GIVE-distributive HAMBURGER part:indef ns-MCDONALD VERY-FAST (2h)GIVE-distributive HAMBURGER part:indef\n",
            "fs-JOHN IX-3p:i NOT BUY TURKEY (1h)part:indef BUY\n",
            "IX-1p REALLY HAVE PINEAPPLE fs-CREAM CHEESE HAVE CHEESE\n",
            "fs-MARY STOP ROWING+ out of my control NOT CONTINUE ROWING no more STOP ROWING+ out of my control CONTINUE ROWING no more\n",
            "GO-OUT HOME\n",
            "HONEST IX-1p VOMIT/HATE GO-OUT WORK COMMUTE BICYCLE IX-1p (1h)VOMIT/HATE IX-1p HONEST VOMIT/HATE WORK BICYCLE\n",
            "fs-BOB IX-loc:i NOT-YET (2h)GIVE (R)FLOWER POSS-3p:i SWEETHEART (2h)GIVE SWEETHEART\n",
            "wave no IX-1p NONE/NOTHING_2 CAR wave no NONE/NOTHING_2 CAR\n",
            "FINISH GRADUATE #HS FINISH GRADUATE\n",
            "FRIEND IX-3p:i DRIVE FRIEND DRIVE\n",
            "TEACH+AGENT DISTRIBUTE ANSWER TO/UNTIL TEST TEACH AGENT DISTRIBUTE ANSWER TO/UNTIL TEST\n",
            "#IF POSS-1p FRIEND GO-OUT CAMP+ IX-1p FUTURE GO-OUT WITH IX-pl-arc FRIEND CAMP+ WITH\n",
            "#VP CLEAR QMwg CLEAR\n",
            "#NO++ BEAUTIFUL sky up there SUNSHINE WARM (2h)SHINE BEAUTIFUL part:indef (2h)SHINE (1h)part:indef part:indef\n",
            "IX-2p PUT TREE WHERE PUT TREE\n",
            "GAME FINISH BEFORE SIX QMwg (1h)part:indef GAME FINISH BEFORE\n",
            "fs-BRIDE AND fs-GROOM IX-3p-pl-2:i/j IX-loc:i DANCE LAST WEDDING NOT (1h)part:indef BUOY-2 DANCE LAST WEDDING\n",
            "#IF fs-BOB REALLY+WORK STUDY fs-LIT TEST FUTURE PASS WORK STUDY TEST PASS\n",
            "IX-1p KISS-FIST IX-2p WHY+ IX-2p EXPERT MAKE PEOPLE LAUGH-HARD IX-2p EASY+ (1h)part:indef MAKE PEOPLE LAUGH-HARD EASY+\n",
            "IX-1p (2h)NOT-YET (P)PAY fs-RENT (2h)NOT-YET (P)PAY\n",
            "fs-BOB IX-loc:i READ WHAT READ WHAT\n",
            "FRIEND IX-loc:i WANT+NEG BUY PLAID (2h)SHIRT WANT+NEG FRIEND WANT NEG BUY (2h)SHIRT WANT NEG\n",
            "IX-1p SAY fs-JOHN wave no IX-1p CREATE/PRETEND fs-JAMES\n",
            "WHO ASK FOR DIRECT/EXPLAIN part:indef DIRECT/EXPLAIN part:indef\n",
            "FRIEND GROUP/TOGETHER DEPART FISHING #WHEN FRIEND GROUP/TOGETHER FISHING\n",
            "PERSON IX-loc:i (1h)part:indef WHO IX-3p:i (1h)part:indef PERSON BUOY\n",
            "WHO HEAR/LISTEN IX-3p:i (1h)TEACH+(1h)AGENT (1h)part:indef\n",
            "WHEN IX-1p ARRIVE SCHOOL IX-1p 1p-INFORM:i MOTHER IX-1p FINISH ARRIVE SAFE WHEN ARRIVE SCHOOL 1p-INFORM:i FINISH ARRIVE SAFE\n",
            "FRIEND GROUP/TOGETHER WANT+NEG PIZZA_4 EAT+NIGHT (25)WHY SAME-OLD+ FRIEND GROUP/TOGETHER WANT NEG NIGHT SAME-OLD+\n",
            "FRIEND NOT-YET PROCEED START FRISBEE NOT-YET+ FRIEND PROCEED START\n",
            "NOW+ ECONOMIC CRISIS NOW+ ECONOMIC CRISIS NOW+\n",
            "IX-1p WANT+NEG SOMETHING/ONE IX-1p wave no WANT NEG\n",
            "IX-loc:i RAIN HAPPEN WHO GO-OUT part:indef RAIN HAPPEN (1h)part:indef part:indef\n",
            "POSS-1p FRIEND KISS-FIST SURF-INTERNET INTERNET (25)WHY CLICK FINEwg FLOW DIFFERENT+ fs-SITES FLOW++ FRIEND INTERNET FLOW DIFFERENT+ FLOW++\n",
            "IX-1p REALLY+WORK PROCEED COMMUTE WORK BICYCLE IX-1p MEAN MUST GET-UP EMPTY/EARLY+(1h)MOST WORK PROCEED WORK BICYCLE MEAN GET-UP EMPTY/EARLY\n",
            "POSS-2p FRIEND LOVE TRIP pay attention (25)WHY (1h)part:indef FRIEND LOVE\n",
            "fs-BOB IX-loc:i HAVE BIG #DOG #NO IX-3p:i (1h)HAVE SMALL HAVE BIG SMALL\n",
            "#NO IX-1p NOT HAVE CAR HAVE CAR\n",
            "BOX/ROOM SMALL small box BOX/ROOM SMALL small box\n",
            "RECENT-PAST RAIN NONE/NOTHING_2+ RAIN NONE/NOTHING_2+\n",
            "TEACH+AGENT IX-loc:i START NICE/CLEAN TIME+ TEACH AGENT START NICE/CLEAN TIME+\n",
            "POSS-1p SISTER ACTION STRANGE IX-1p 1p-LOOK:i SISTER ACTION\n",
            "BAD WEATHER START IN ns-BOSTON #WHEN WEATHER START IN\n",
            "IX-1p D CLASS IX-1p ACCEPT D CLASS ACCEPT\n",
            "POSS-1p FRIEND PAST+NIGHT WOW (2h)DRUNK (2h)PASS-OUT_2 (25)WHY (2h)(Y)DRINK A-LOT IX-3p:i FRIEND NIGHT (2h)DRUNK (2h)PASS-OUT_2 (2h)(Y)DRINK A-LOT\n",
            "fs-BOB one person approaching another GIVE:i (R)FLOWER GIRL+FRIEND (2h)NOT-YET part:indef one person approaching another girlfriend FRIEND (2h)NOT-YET part:indef\n",
            "ANYWAY/NOT-MATTER++ RAIN NOT part:indef STILL PROCEED SWIM+ ANYWAY/NOT-MATTER++ RAIN part:indef STILL PROCEED SWIM+\n",
            "(L-X)POSS-1p FRIEND IX-loc:i TRIP KISS-FIST IX-loc:i FAVORITE/PREFER++ WHERE fs-ASIA (25)WHY POSS-3p:j EAT+ DELICIOUS FRIEND\n",
            "IX-2p ARTICLE IX-2p WRITE FOR ns-BOSTON fs-GLOBE IX-1p READ WOW (1h)GOOD/THANK-YOU IX-3p:i ARTICLE WRITE READ\n",
            "IX-2p MUST WORK ALL-NIGHT IX-2p WORK ALL-NIGHT\n",
            "#IF SCHOOL+ NOT CANCEL/CRITICIZE IX-3p:i FUTURE GO SCHOOL IX-3p:i SCHOOL+ CANCEL/CRITICIZE GO SCHOOL\n",
            "IX-1p ENJOY CHAT WITH FIRST-IN-LIST fs-JESSICA AND SECOND-IN-LIST fs-DONNA IX-3p-pl-2:i/j ENJOY (25)WHY IX-1p ENJOY CHAT fs-ASL ENJOY CHAT WITH FIRST-IN-LIST SECOND-IN-LIST ENJOY CHAT\n",
            "(alt-G/bent-L)POSS-1p SISTER LIKE ns-BOSTON (2h)KNOW+NEG SISTER (2h)KNOW NEG\n",
            "FRIEND TAKE-UP DINNER PIZZA_4 (P)PARTY (1h)part:indef #WHEN (1h)part:indef FRIEND TAKE-UP (P)PARTY\n",
            "PAST+ TAKE-BREAK IX-1p READY #DO HOMEWORK FROM-NOW-ON EMPTY-FROM-NOW-ON READY TAKE-BREAK READY HOMEWORK FROM-NOW-ON EMPTY-FROM-NOW-ON READY\n",
            "IX-1p ALMOST FINISH HOMEWORK ALMOST FINISH HOMEWORK\n",
            "BOX/ROOM BIG_5 BOX/ROOM BIG_5\n",
            "wave no IX-1p NEVER RUN fs-MARATHON PAST wave no IX-1p NOT PLAN START NOW whoa RUN PLAN START NOW whoa\n",
            "#IF REALLY+WORK IX-1p MUST (P)PAY fs-RENT NOW FINE CANCEL/CRITICIZE POSS-1p VACATION (1h)PROCEED+ WORK (P)PAY NOW CANCEL/CRITICIZE VACATION\n",
            "DURING/WHILE LONG-AGO+ IX-1p #HS MOTHER ALWAYS REMIND-1p+ IX-1p EVERY-MORNING (25)WHY+ IX-1p sound asleep NOT FEEL ALARM+++ DURING/WHILE EVERY-MORNING sound asleep ALARM+++\n",
            "#IF fs-BOB IX-loc:i TAKE-UP BIG #DOG MUST ACCEPT FUTURE (flat-O)PAY/SPEND WOW+ BUOY TAKE-UP BIG ACCEPT (flat-O)PAY/SPEND\n",
            "#WHEN POSS-1p FRIEND FINISH TIRED DRIVE FUTURE SWITCH FRIEND FINISH TIRED DRIVE\n",
            "#IF POSS-2p FRIEND (2h)PASS-OUT_2 (2h)DRUNK IX-1p REFUSE CARE REFUSE IX-1p FRIEND (2h)PASS-OUT_2 (2h)DRUNK CARE\n",
            "fs-SUE MOVE WHERE MOVE\n",
            "fs-JACK DISGUST WHY (1h)part:indef\n",
            "WIDE fs-DOG IX-loc:i ACCEPT WHO WIDE ACCEPT IX-3p:i\n",
            "IX-1p REALLY+WORK PROCEED BUY SHORTS MEAN IX-1p MUST SHOE+ SEND/MAIL WORK PROCEED BUY SHORTS MEAN SHOE+\n",
            "IX-1p (1h)HAPPY+ NONE/NOTHING_2 #NO+ IX-1p SAD ok (giving in) NONE/NOTHING_2 SAD ok (giving in)\n",
            "SOMETHING/ONE IX-3p-pl-arc FIND/FIND-OUT POSS-1p KEY WHICH WHO IX-3p-pl-arc KEY WHICH\n",
            "HOW WHAT THROUGH FEEDBACK let's see HOW WHAT THROUGH FEEDBACK let's see\n",
            "WHO (1h)TEND COMMUTE BICYCLE WHO BICYCLE\n",
            "IX-1p NOT SKILL (1h)part:indef SKILL\n",
            "WANT_2 PLAY FRISBEE WHO (1h)part:indef WANT_2 PLAY\n",
            "AUNT IX-3p:i EXPERT MAKE APPLE PIE NOT MAKE PIE\n",
            "what's going on? NONE/NOTHING BOOK-pl TABLE IX-honorific:i (1h)NONE/NOTHING (1h)part:indef NONE/NOTHING BOOK-pl TABLE\n",
            "DURING/WHILE IX-1p ENJOY CHAT WITH fs-DONNA AND SECOND-IN-LIST fs-JESSICA IX-1p SAME ENJOY CHAT WITH EACH+ONE OTHER SAME IX-1p DURING/WHILE ENJOY CHAT WITH SECOND-IN-LIST ENJOY CHAT WITH EACH\n",
            "#IF IX-3p:i fs-BOB IX-loc:i GO #PO IX-1p GRAB-CHANCE give package POSS-1p LETTER/MAIL IX-3p:j (1h)DROP #OFF FOR IX-1p GO GRAB-CHANCE give package LETTER/MAIL\n",
            "#WHEN POSS-1p FRIEND catch fish (1h)FISH IX-1p MUST fs-BUCKET ICL:B-Lbring over bucket SCL:1throw fish in bucket FIRST FAST_3 #FRESH PERFECT FINE+ FRIEND catch fish ICL:B-Lbring over bucket FAST_3 PERFECT\n",
            "#IF fs-MARY IX-3p:i NOT (1h)HAPPY (1h)part:indef NONE/NOTHING_2+ONE IX-1p-pl-arc (1h)HAPPY (1h)part:indef NONE/NOTHING_2\n",
            "IF+ IX-3p:i fs-OBAMA CHOOSE REPUBLICAN whoa fs-OBAMA FUTURE SORRY THUMB-IX-3p:i CHOOSE\n",
            "fs-JACK IX-loc:i HAVE MONEY HAVE MONEY\n",
            "fs-JACK WAIT GO-OUT+ SEE STRANGE QMwg WAIT\n",
            "#IF TOMORROW NONE/NOTHING_2 TIME IX-2p CAN washing car CAR MONDAY NONE/NOTHING_2 TIME CAN washing car CAR\n",
            "WHO FIND/FIND-OUT POSS-1p KEY_2 WHO\n",
            "DRIVE WHO DRIVE\n",
            "FRIEND IX-3p:i DRIVE FRIEND DRIVE\n",
            "DRESS/CLOTHES IX-loc:i #SALE NOT IX-3p:i DRESS/CLOTHES\n",
            "fs-MAC TROUNCE fs-PC WHY+ fs-MAC EXPERT MATCH PEOPLE WANT_2 TROUNCE MATCH PEOPLE WANT_2\n",
            "FUTURE GO #PO WHO GO\n",
            "IX-3p:i APPLY-1p IX-1p MANY fs-TASKS frustration APPLY-1p MANY frustration\n",
            "IX-1p CHAT WITH IX-3p-pl-2:i/j ENJOY IX-1p NOT IX-1p CHAT WITH ENJOY\n",
            "IX-2p NOT person passed out NOT IX-2p person passed out\n",
            "FRIEND NOW IX-3p:i PLAN SURPRISE THRILL/WHAT'S-UP FRIEND NOW PLAN SURPRISE THRILL/WHAT'S-UP\n",
            "MAN RECENT-PAST BUSTED BREAK ENTER fs-NEWTON IX-3p:i THAT IX-3p:i MAYBE SAME PERSON WHO BREAK+ENTER IN ns-BROOKLINE part:indef BUSTED BREAK ENTER MAYBE BUOY PERSON BREAK ENTER IN part:indef\n",
            "IF+ BOX/ROOM IX-loc:i NOT ARRIVE IX-loc:i SHOULD CONTACT+ fs-FEDEX BOX/ROOM ARRIVE CONTACT+\n",
            "FRIEND GO-OUT FISHING FRIEND FISHING\n",
            "FRIEND GROUP/TOGETHER DELIBERATE (2h)REASON WANT+NEG PIZZA_3 (P)PARTY (25)WHY (1h)part:indef UP-TO-NOW SAME-OLD FRIEND GROUP/TOGETHER DELIBERATE (2h)REASON WANT NEG (P)PARTY UP-TO-NOW SAME-OLD\n",
            "THAT STUDENT ON fs-QUIZ ACT IX-3p:i THAT IX-loc:i NOT WIN IX-3p:i (1h)part:indef STUDENT ON ACT WIN\n",
            "IX-1p NOT THRILL/WHAT'S-UP #IF HAVE PINEAPPLE fs-CREAM CHEESE part:indef THRILL/WHAT'S-UP HAVE CHEESE part:indef\n",
            "#HS IX-2p GO-OUT WHERE IX-2p\n",
            "#IF IX-1p NOT AFRAID IX-1p PROCEED GO WATER PADDLE/CANOE FUTURE IX-1p (1h)part:indef AFRAID PROCEED GO PADDLE/CANOE\n",
            "(1h)THIS ARTICLE QUOTE/TOPIC fs-SENSORY fs-ORIENTATION SECOND PART ARTICLE QUOTE/TOPIC PART\n",
            "WHO FALL-IN-LOVE fs-BILL FALL-IN-LOVE\n",
            "IF+ fs-JOHN NOT HERE part:indef ANY+ONE IX-3p-pl-arc KNOW WHERE GO (1h)part:indef HERE part:indef GO\n",
            "IX-2p MUST #VP IX-2p (25)WHY NOT TEXTING_3 part:indef TEXTING_3 part:indef\n",
            "WHEN REALLY+WORK MOVE-AWAY ns-#SD OUT IX-1p (2h)MUST GET NEW CAR LICENSE+ WHEN WORK MOVE-AWAY OUT (2h)MUST GET NEW CAR LICENSE+\n",
            "fs-LIZ RELATIONSHIP FAMOUS ACT WHO RELATIONSHIP FAMOUS ACT\n",
            "fs-JEN fs-JOE IX-3p-pl-2:i/j MARRY QMwg MARRY\n",
            "IX-3p:i SISTER IX-loc:i IF+ IX-3p:i NEGLECT+ HOME+WORK REFUSE SUCCEED IN SCHOOL (1h)part:indef SISTER NEGLECT+ WORK SUCCEED IN SCHOOL\n",
            "PAST+NIGHT IX-1p LIE-DOWN DRUNK EACH+ONE fist pump NIGHT LIE-DOWN EACH fist pump\n",
            "#NO+ NOT STOP perplexed STOP perplexed\n",
            "IX-1p HIT MISS/ASSUME POSS-1p MORNING CLASS WHY++ IX-1p OVERSLEEP IX-1p HIT MORNING CLASS OVERSLEEP\n",
            "WHICH COLLEGE fs-MARY GO-OUT WHICH (1h)part:indef WHICH COLLEGE WHICH\n",
            "FRIEND GROUP/TOGETHER PLAY VIDEO-GAME FRIEND GROUP/TOGETHER PLAY VIDEO-GAME\n",
            "#IF POSS-1p FRIEND DEPART (P)PARTY IX-1p FUTURE (1h)JOIN GUARANTEE YES FRIEND (P)PARTY GUARANTEE\n",
            "#WHEN POSS-1p FRIEND GO-OUT IX-1p PROCEED FINALLY START POSS-1p HOMEWORK FRIEND PROCEED FINALLY START HOMEWORK\n",
            "IX-2p WRONG (alt-G/bent-L)POSS-1p FAVORITE/PREFER fs-LOX NOT LIKE PINEAPPLE fs-CREAM CHEESE\n",
            "IX-2p WORK WHAT WORK WHAT\n",
            "fs-JACK WAIT GO-OUT+ SEE STRANGE QMwg WAIT\n",
            "ns-#AA IX-loc:i well NOT EXPENSIVE part:indef #IF REALLY+WORK EXPENSIVE part:indef IX-1p STUCK WHY flying back and forth ns-BOSTON ns-#FLA ALONE ns-#AA (1h)part:indef well EXPENSIVE part:indef WORK EXPENSIVE part:indef BUOY\n",
            "#IF (2h)HORSE IX-loc:i PLAY+ ALL-DAY horse galloping ON FARM GUARANTEE NIGHT TIME+ EXHAUST (2h)HORSE PLAY+ ALL-DAY horse galloping ON GUARANTEE NIGHT TIME+ EXHAUST\n",
            "BOX/ROOM SMALL wave no BIG_5 BOX/ROOM SMALL BIG_5\n",
            "WHO IX-3p:i BUOY\n",
            "(25)WHY FATHER (P)UPSET (1h)part:indef KNOW+(1h)NEG\n",
            "POSS-2p FRIEND ADDICTED SURF-INTERNET INTERNET (25)WHY (1h)part:indef FRIEND INTERNET\n",
            "#NO IX-1p NOT AFRAID fs-OF HIGH part:indef DO-DO MAKE IX-2p THINK THAT (1h)part:indef AFRAID part:indef DO-DO MAKE\n",
            "#IF FRIEND CRASH POSS-1p (P)PARTY IX-1p FUTURE KICK-OFF IX-1p FRIEND CRASH (P)PARTY KICK-OFF\n",
            "FRIEND FACE+SAME INTERCOURSE+fs-UP WHY (1h)part:indef FRIEND INTERCOURSE\n",
            "UNDERSTAND LEARN+++ AND USE THAT (2h)alt.UNDERSTAND IX-1p USE MANY DEAF PEOPLE POSS-3p-pl-arc EXPERIENCE THROUGH STORY+ LEARN+++ USE (2h)alt.UNDERSTAND USE MANY PEOPLE THROUGH STORY+\n",
            "TIRED wave no TIRED\n",
            "#IF IX-1p BUY SHORTS+ IX-1p MUST (5)THROW SHOE+ BUY SHORTS+ SHOE+\n",
            "EACH STUDENT WHO GET TROPHY IX-3p:i HERE (2h)LOOK-UP EACH STUDENT GET TROPHY HERE (2h)LOOK-UP\n",
            "MAN RECENT-PAST BUSTED BREAK ENTER fs-NEWTON IX-3p:i THAT IX-3p:i MAYBE SAME PERSON WHO BREAK+ENTER IN ns-BROOKLINE part:indef BUSTED BREAK ENTER MAYBE BUOY PERSON BREAK ENTER IN part:indef\n",
            "#IF QUIET HERE+ MEAN MAYBE (1h)HAVE CHILDREN UP SLEEP QUIET HERE+ MEAN MAYBE CHILDREN\n",
            "FRIEND CAR WHERE (1h)part:indef FRIEND CAR\n",
            "WHO KISS-FIST (2h)LOOK-FORWARD STAR+BOMB++ (2h)LOOK-FORWARD STAR BOMB++\n",
            "#IF POSS-1p FRIEND GROUP/TOGETHER GO-OUT WANT+NEG IX-1p FUTURE PROCEED STAY HOME (2h)LOOK #TV FRIEND GROUP/TOGETHER WANT NEG PROCEED STAY (2h)LOOK\n",
            "POSS-1p SISTER IX-loc:i WANT+NEG HEADBAND FOR POSS-3p:i BIRTHDAY_3 SISTER WANT NEG HEADBAND BIRTHDAY_3\n",
            "fs-MARY IX-loc:i ARRIVE HOME fs-LATE IX-3p:j fs-JOHN MAYBE UPSET IX-3p:k ARRIVE IX-3p:j MAYBE\n",
            "WANT_2 FRISBEE PLAY WHO part:indef WANT_2 PLAY (1h)part:indef part:indef\n",
            "POSS-1p GIRL+CORRECT (1h)WANT HEADBAND FOR POSS-2p BIRTHDAY (25)WHY (1h)part:indef HAIR long hair WOW CORRECT HEADBAND long hair\n",
            "TEACH+AGENT SICK-OF NICE/CLEAN+ CLASS+BOX/ROOM forget it NOT NICE/CLEAN+ NOW+ TEACH AGENT NICE/CLEAN+ CLASS BOX/ROOM forget it NICE/CLEAN+ NOW+\n",
            "IX-1p+ ARRIVE SCHOOL LATE (25)WHY IX-1p BICYCLE IX-1p (3)ACCIDENT ARRIVE SCHOOL BICYCLE (3)ACCIDENT\n",
            "(nd-1)FIRST-IN-LIST VOICE+ (nd-1)FIRST-AND-SECOND-IN-LIST MANAGE/CONTROL #OF fs-SOUND (nd-1)FIRST-AND-SECOND-IN-LIST (nd-1)FIRST-IN-LIST (nd-1)FIRST-AND-SECOND-IN-LIST MANAGE/CONTROL (nd-1)FIRST-AND-SECOND-IN-LIST\n",
            "fs-BOB IX-loc:i FUTURE SURPRISE FROM THAT SURPRISE THRILL/WHAT'S-UP QMwg SURPRISE FROM SURPRISE THRILL/WHAT'S-UP\n",
            "KISS-FIST LOOK FIREWORKS WHO FIREWORKS\n",
            "WHEN IX-1p INTRODUCE NEW FRIEND IX-1p FUTURE TEST MAKE REALLY REMEMBER NAME WHEN INTRODUCE NEW FRIEND TEST MAKE REMEMBER NAME\n",
            "KIND (P)PARTY part:indef KIND (P)PARTY part:indef\n",
            "NOT-YET NONE/NOTHING+ONE FIND/FIND-OUT UMBRELLA STILL GONE part:indef NONE/NOTHING UMBRELLA STILL GONE part:indef\n",
            "IX-3p:i TEACH+AGENT NOT REQUIRE READ+ DROP IX-3p:j fs-JOHN IX-loc:j NOT READ TEACH AGENT REQUIRE READ+ DROP READ\n",
            "MOTHER IX-loc:i SICK QMwg HOW SICK HOW\n",
            "POSS-1p FRIEND IX-3p:i LOVE TRIP UNDERSTAND KISS-FIST fs-ASIA ns-ASIA (25)WHY IX-loc:i fs-ASIA MANY (2h)THING DO-DO DIFFERENT++ VARY COMPARE TO/UNTIL OTHER COUNTRY+ FRIEND LOVE focus MANY (2h)THING DO-DO DIFFERENT++ VARY COMPARE TO/UNTIL COUNTRY+\n",
            "GO-OUT+ SNOW SCHOOL CANCEL/CRITICIZE SNOW SCHOOL CANCEL/CRITICIZE\n",
            "#IF POSS-1p FRIEND IX-3p:i DRIVE IX-1p FUTURE SLEEP BACK SIT ' FRIEND DRIVE SIT '\n",
            "BOSS SUMMON IX-1p LOOK EACH+ONE many people staring KNOW-THAT IX-1p TROUBLE IX-1p SUMMON EACH many people staring TROUBLE\n",
            "#IF FRIEND TAKE-UP PIZZA_4 DINNER IX-1p FUTURE BRING fs-SUPREME round flat FRIEND TAKE-UP BRING round flat\n",
            "#IF POSS-1p SISTER IX-loc:i GET HEADBAND FOR POSS-3p:i BIRTHDAY IX-3p:i SISTER GUARANTEE FUTURE DECORATE WITH fs-GLITTER BAKING-SPRINKLES SISTER GET HEADBAND SISTER GUARANTEE DECORATE WITH BAKING-SPRINKLES\n",
            "IX-1p ALWAYS SERIOUS IN SCHOOL IN SCHOOL\n",
            "fs-PETE IX-3p:i LOVE TAPE-RECORDING IX-3p:i (1h)HAVE THREE three computers next to each other POSS-3p:i HOME WOW LOVE TAPE-RECORDING three computers next to each other\n",
            "IX-3p:i fs-JACK GO-OUT IX-3p:i SEE SOMETHING/ONE STRANGE QMwg (1h)part:indef\n",
            "#IF POSS-1p FRIEND GO-OUT FISHING+ IX-1p MUST (2h)LOOK-FORWARD+ MAKE REALLY WEATHER IX-loc:i FINE+ FRIEND FISHING+ (2h)LOOK-FORWARD+ MAKE WEATHER\n",
            "PAST+ALL-NIGHT IX-1p #DO HOMEWORK WOW A-LOT ALL-NIGHT HOMEWORK A-LOT\n",
            "FRIEND NOW IX-3p:i #VP HOME CHAT+++ FRIEND NOW CHAT+++\n",
            "#IF IX-3p:i REALLY+WORK LIKE IX-3p:j EAT eating FUTURE ALL-GONE FUTURE (1h)part:indef IX-3p:i NOT (1h)part:indef SOMETHING/ONE WRONG+ (1h)part:indef WORK eating ALL-GONE\n",
            "POSS-1p FRIEND IX-3p:i START VIDEO-GAME FINISH ALL-NIGHT VIDEO-GAME CONTINUE TO/UNTIL EYES eyes pop out WOW FRIEND START VIDEO-GAME FINISH ALL-NIGHT VIDEO-GAME CONTINUE TO/UNTIL eyes pop out\n",
            "#IF GIRL+FRIEND IX-3p:i fs-BOB GIVE:i (R)FLOWER IX-3p:i FUTURE (1h)HAPPY FRIEND BUOY\n",
            "fs-JOHN IX-3p:i NOT BREAK WINDOW #NO+ IX-3p:j fs-SALLY BREAK WINDOW\n",
            "OLD MUSIC round flat no more WHY+++ EACH+ONE IX-3p-pl-arc HAVE fs-IPOD MUSIC round flat no more EACH HAVE\n",
            "LECTURE fs-TESTIMONIES DIFFERENT MAKE-A-COLLECTION BECOME (2h)SAME fs-BRICOLAGE gathering information ORGANIZE DIFFERENT MAKE-A-COLLECTION BECOME (2h)SAME gathering information ORGANIZE\n",
            "#IF+ FRIEND GROUP/TOGETHER GO-OUT (P)PARTY+ IX-1p why not JOIN IX-1p FRIEND GROUP/TOGETHER (P)PARTY+ why not JOIN\n",
            "fs-BOB IX-3p:i ARRIVE (P)PARTY_3 EACH+ONE MUST use spray cans (flat-O)PAY/SPEND (2h)alt.TEASE MUST ARRIVE (P)PARTY_3 EACH use spray cans (flat-O)PAY/SPEND (2h)alt.TEASE\n",
            "fs-JACK fs-SUE MEET FINISH MEET FINISH\n",
            "DURING/WHILE COLD IX-1p (1h)TEND SICK-continuative WHY++ (1h)TEND USE FLIP-FLOP+ part:indef DURING/WHILE COLD SICK-continuative USE FLIP-FLOP+ part:indef\n",
            "#NO++ IX-1p RECENT-PAST FINISH HOMEWORK IX-1p FINISH HOMEWORK\n",
            "IX-1p PROCEED NOT INVITE/HIRE fs-MARY WHY IX-3p:i NOT AGREE (5)SOCIAL/INTERACT GROUP/TOGETHER NOT PROCEED AGREE (5)SOCIAL/INTERACT GROUP/TOGETHER\n",
            "BASEBALL IX-loc:i GAME IX-loc:i HAVE STAR BOMB+ IX-1p MUST GO (2h)LOOK BASEBALL GAME HAVE STAR BOMB+ whoa GO (2h)LOOK\n",
            "#IF POSS-1p FRIEND DEPART (P)PARTY+ IX-1p POSS-1p ROOMMATE IX-1p-pl-2:i (1h)JOIN FRIEND (P)PARTY+ ROOMMATE\n",
            "POSS-1p SISTER VOMIT/HATE WATER SKI (25)WHY HARD BALANCE (2h)alt.SKI SISTER VOMIT/HATE SKI HARD BALANCE (2h)alt.SKI\n",
            "fs-JOHN IX-loc:i BREAK WINDOW #NO+ IX-3p:j fs-JAMES BREAK WINDOW\n",
            "(P)PARTY+ START WHEN (P)PARTY+ START WHEN\n",
            "IX-1p KNOW-THAT IX-3p:i MONSTER HOUSE IX-1p SUFFER ENTER fs-AT POSS-1p #OWN fs-RISK MONSTER HOUSE ENTER\n",
            "CANNOT DISTRIBUTE NUT+BUTTER IX-3p:i fs-BETH IX-loc:i wow ALLERGY NUT+ IX-3p:i CANNOT DISTRIBUTE BUTTER ALLERGY\n",
            "HERE ns-BOSTON NOT MANY ANIMAL+ part:indef HERE MANY ANIMAL+ part:indef\n",
            "NOT-YET NONE/NOTHING+ONE FIND/FIND-OUT UMBRELLA STILL GONE part:indef NONE/NOTHING UMBRELLA STILL GONE part:indef\n",
            "FRIEND IX-loc:i PROCEED PLAY FRISBEE (2h)IX-1p JOIN PLAY FRIEND PROCEED PLAY (2h)IX-1p JOIN PLAY\n",
            "#IF IX-2p WANT+NEG PIZZA_4 CAN ORDER SPAGHETTI WANT NEG CAN SPAGHETTI\n",
            "POSS-1p FRIEND SURF-INTERNET INTERNET (1h)TEND REMIND-2p+ REMEMBER IX-2p NOT FINISH HOMEWORK FRIEND INTERNET REMEMBER FINISH HOMEWORK\n",
            "MOTHER (2h)IX-loc:i SICK IX-3p:i IX-1p MUST CARE+ IX-3p:i (2h)IX-loc:i SICK CARE+\n",
            "#NO+ IX-3p:i (L)LIVE (L-X)SMALL #APT IN CITY/COMMUNITY fs-CITY IX-3p:i (L)LIVE (L-X)SMALL IN CITY/COMMUNITY\n",
            "FRIEND IX-loc:i START CAR #WHEN FRIEND START CAR\n",
            "fs-PHIL (1h)HAVE KID CHILDREN (1h)HOW-MANY/MANY CHILDREN\n",
            "WHO ASK FOR DIRECT\n",
            "NOW MOVING-ON-TO-NEXT-TOPIC TALK ABOUT fs-AUDIO fs-VOCAL #ORIENTATION MAJOR NOW MOVING-ON-TO-NEXT-TOPIC ABOUT MAJOR\n",
            "WHO BUY CAR part:indef BUY CAR part:indef\n",
            "IF+ IX-3p:i GO-OUT NOT-MIND+ IX-loc:j CLOSE-GATE\n",
            "#NO++ (nd-1)MOVIE START TIME TEN++ (nd-1)MOVIE START TIME\n",
            "WHEN (crvd-5)POSS-1p FATHER START VIDEO-GAME IX-1p whoa IX-1p UP WHY+ IX-loc:i VIDEO-GAME BORE IX-1p LOOK WHEN START VIDEO-GAME whoa VIDEO-GAME\n",
            "#IF MOTHER IX-loc:i NICE/CLEAN+ (K)KITCHEN IX-1p CANNOT BAKE/OVEN COOKIE NICE/CLEAN+ (K)KITCHEN CANNOT BAKE/OVEN COOKIE\n",
            "BRACELET POSS-1p BROTHER RECENT-PAST FIND/FIND-OUT THAT BRACELET REALLY+WORK GOLD/ns-CALIFORNIA circular bracelet wow BRACELET BROTHER BRACELET WORK circular bracelet\n",
            "The watch that my brother just found is real gold!\n"
          ]
        }
      ],
      "source": [
        "#Checking Data\n",
        "targ, inp = load_data(\"\")\n",
        "print(inp[-1])"
      ]
    },
    {
      "cell_type": "code",
      "source": [
        "print(targ[0:2])\n",
        "print(inp[0:2])"
      ],
      "metadata": {
        "colab": {
          "base_uri": "https://localhost:8080/"
        },
        "id": "W-righ4I-YNC",
        "outputId": "483d8fd2-8509-49d2-e2a3-d6baf9511b59"
      },
      "execution_count": 402,
      "outputs": [
        {
          "output_type": "stream",
          "name": "stdout",
          "text": [
            "['(P)PARTY START WHICH TIME EIGHT TIME NINE (P)PARTY START WHICH TIME', '(G/Q)POSS-1p SISTER (2h)IX-3p:i tube skipping on water IX-1p GO-BY-BOAT IX-1p LOOK MAKE REALLY person flips off IX-1p STOP SISTER (2h)IX-3p:i tube skipping on water GO-BY-BOAT MAKE STOP']\n",
            "['When does the party start, at 8 or 9?', 'When my sister goes water tubing, I will have to watch her and make sure to stop the boat when she falls off.']\n"
          ]
        }
      ]
    },
    {
      "cell_type": "code",
      "execution_count": 403,
      "metadata": {
        "id": "bfF3KH92vozg"
      },
      "outputs": [],
      "source": [
        "#Shuffling and batching from the arrays of string to tf.data.Dataset strings\n",
        "BUFFER_SIZE = len(inp)\n",
        "BATCH_SIZE = 64\n",
        "\n",
        "dataset = tf.data.Dataset.from_tensor_slices((inp, targ)).shuffle(BUFFER_SIZE)\n",
        "dataset = dataset.batch(BATCH_SIZE)"
      ]
    },
    {
      "cell_type": "code",
      "execution_count": 404,
      "metadata": {
        "colab": {
          "base_uri": "https://localhost:8080/"
        },
        "id": "VFfFwhWsvrUw",
        "outputId": "e452956d-7a01-445d-e20d-3423c04d7583"
      },
      "outputs": [
        {
          "output_type": "stream",
          "name": "stdout",
          "text": [
            "tf.Tensor(\n",
            "[b\"Bob hasn't gone to the post office.\"\n",
            " b'My friend loves the Internet because there are many different websites.'\n",
            " b\"The set up of the two categories was based on Edward Hall's analysis from the idea he presented years ago.\"\n",
            " b'Where are the clothes that are on sale?'\n",
            " b'If the students listen to their teacher, they will learn something.'], shape=(5,), dtype=string)\n",
            "\n",
            "tf.Tensor(\n",
            "[b'fs-BOB IX-loc:i NOT-YET GO #PO IX-3p:i GO'\n",
            " b'POSS-1p FRIEND KISS-FIST SURF-INTERNET INTERNET (25)WHY CLICK FINEwg FLOW DIFFERENT+ fs-SITES FLOW++ FRIEND INTERNET FLOW DIFFERENT+ FLOW++'\n",
            " b'BELOW_2 ON THAT ANALYZE_3 FROM (1)GENERATIONS-AGO+ IDEA SUGGEST fs-EDWARD fs-HALL BELOW_2 ON ANALYZE_3 FROM (1)GENERATIONS-AGO+ SUGGEST'\n",
            " b'DRESS/CLOTHES IX-3p:i #SALE WHERE DRESS/CLOTHES'\n",
            " b'#IF hesitation IX-3p:i STUDENT PROCEED HEAR/LISTEN TEACH+AGENT LOOK-UP FUTURE LEARN SOMETHING/ONE STUDENT PROCEED TEACH AGENT LEARN'], shape=(5,), dtype=string)\n"
          ]
        }
      ],
      "source": [
        "#Data Checking\n",
        "for example_input_batch, example_target_batch in dataset.take(1):\n",
        "  print(example_input_batch[:5])\n",
        "  print()\n",
        "  print(example_target_batch[:5])\n",
        "  break"
      ]
    },
    {
      "cell_type": "code",
      "execution_count": 405,
      "metadata": {
        "id": "Ve7HDqDovv5Q"
      },
      "outputs": [],
      "source": [
        "#Standardization for the Unicode using  text standardization function\n",
        "def tf_lower_v3(text):\n",
        "  text = tf.strings.join(['[START]', text, '[END]'], separator=' ')\n",
        "  return text"
      ]
    },
    {
      "cell_type": "code",
      "execution_count": 406,
      "metadata": {
        "id": "4rCbQ4Y6v2BX"
      },
      "outputs": [],
      "source": [
        "#Converting input sequence to sequence of token\n",
        "max_vocab_size = 4000\n",
        "\n",
        "input_text_processor = tf.keras.layers.TextVectorization(\n",
        "    standardize=tf_lower_v3,\n",
        "    max_tokens=max_vocab_size)"
      ]
    },
    {
      "cell_type": "code",
      "execution_count": 407,
      "metadata": {
        "colab": {
          "base_uri": "https://localhost:8080/"
        },
        "id": "opLEPQ3Tv4RY",
        "outputId": "6a116399-3a77-4f9d-8708-bdbc8d2b29d6"
      },
      "outputs": [
        {
          "output_type": "execute_result",
          "data": {
            "text/plain": [
              "['', '[UNK]', '[START]', '[END]', 'the', 'I', 'to', 'If', 'a', 'is']"
            ]
          },
          "metadata": {},
          "execution_count": 407
        }
      ],
      "source": [
        "input_text_processor.adapt(inp)\n",
        "input_text_processor.get_vocabulary()[:10] # Checking the first 10 vocab"
      ]
    },
    {
      "cell_type": "code",
      "execution_count": 408,
      "metadata": {
        "colab": {
          "base_uri": "https://localhost:8080/"
        },
        "id": "rjiwTRcKwB0p",
        "outputId": "701e4d2f-7a39-48b2-d8e8-36648be87f48"
      },
      "outputs": [
        {
          "output_type": "execute_result",
          "data": {
            "text/plain": [
              "['',\n",
              " '[UNK]',\n",
              " '[START]',\n",
              " '[END]',\n",
              " 'IX-1p',\n",
              " 'FRIEND',\n",
              " 'IX-3p:i',\n",
              " 'part:indef',\n",
              " 'IX-loc:i',\n",
              " '(1h)part:indef']"
            ]
          },
          "metadata": {},
          "execution_count": 408
        }
      ],
      "source": [
        "#Adapting the Sequence\n",
        "output_text_processor = tf.keras.layers.TextVectorization(\n",
        "    standardize=tf_lower_v3,\n",
        "    max_tokens=max_vocab_size)\n",
        "\n",
        "output_text_processor.adapt(targ)\n",
        "output_text_processor.get_vocabulary()[:10]"
      ]
    },
    {
      "cell_type": "code",
      "execution_count": 409,
      "metadata": {
        "colab": {
          "base_uri": "https://localhost:8080/"
        },
        "id": "zHPWYqXcwC4x",
        "outputId": "5cdfad69-7fe8-46de-ee4c-a2c731e4a26f"
      },
      "outputs": [
        {
          "output_type": "execute_result",
          "data": {
            "text/plain": [
              "<tf.Tensor: shape=(3, 10), dtype=int64, numpy=\n",
              "array([[   2,   39,  154,  156,    6,    4,  133, 1100,    3,    0],\n",
              "       [   2,   21,   15,   62,    4,  307,   18,  130,   37,  153],\n",
              "       [   2,   24,  263,  146,   19,    4,  256, 1375,   29,  300]])>"
            ]
          },
          "metadata": {},
          "execution_count": 409
        }
      ],
      "source": [
        "#Converting a batch of strings into a batch of token IDs\n",
        "example_tokens = input_text_processor(example_input_batch)\n",
        "example_tokens[:3, :10]"
      ]
    },
    {
      "cell_type": "code",
      "execution_count": 410,
      "metadata": {
        "colab": {
          "base_uri": "https://localhost:8080/",
          "height": 35
        },
        "id": "mDrjPTrWwFJR",
        "outputId": "1a8e29c5-3194-4dc4-e6e7-46e33424ecdc"
      },
      "outputs": [
        {
          "output_type": "execute_result",
          "data": {
            "text/plain": [
              "\"[START] Bob hasn't gone to the post office. [END]                     \""
            ],
            "application/vnd.google.colaboratory.intrinsic+json": {
              "type": "string"
            }
          },
          "metadata": {},
          "execution_count": 410
        }
      ],
      "source": [
        "#Converting the ID-Tokens to Text\n",
        "input_vocab = np.array(input_text_processor.get_vocabulary())\n",
        "tokens = input_vocab[example_tokens[0].numpy()]\n",
        "' '.join(tokens)"
      ]
    },
    {
      "cell_type": "code",
      "execution_count": 411,
      "metadata": {
        "id": "kmZ0s8UZwKyx"
      },
      "outputs": [],
      "source": [
        "#Defining the Constant\n",
        "embedding_dim = 256\n",
        "units = 1024"
      ]
    },
    {
      "cell_type": "code",
      "execution_count": 412,
      "metadata": {
        "id": "5QwK1T59wbpA"
      },
      "outputs": [],
      "source": [
        "#Encoder takes a list of token IDs and teturns the processed sequence with internal state which will be used to initialize the decoder\n",
        "class Encoder(tf.keras.layers.Layer):\n",
        "  def __init__(self, input_vocab_size, embedding_dim, enc_units):\n",
        "    super(Encoder, self).__init__()\n",
        "    self.enc_units = enc_units\n",
        "    self.input_vocab_size = input_vocab_size\n",
        "\n",
        "    self.embedding = tf.keras.layers.Embedding(self.input_vocab_size,\n",
        "                                               embedding_dim)\n",
        "    self.gru = tf.keras.layers.GRU(self.enc_units,\n",
        "                                   return_sequences=True,\n",
        "                                   return_state=True,\n",
        "                                   recurrent_initializer='glorot_uniform')\n",
        "\n",
        "  def call(self, tokens, state=None):\n",
        "    shape_checker = ShapeChecker()\n",
        "    shape_checker(tokens, ('batch', 's'))\n",
        "    vectors = self.embedding(tokens)\n",
        "    shape_checker(vectors, ('batch', 's', 'embed_dim'))\n",
        "\n",
        "    output, state = self.gru(vectors, initial_state=state)\n",
        "    shape_checker(output, ('batch', 's', 'enc_units'))\n",
        "    shape_checker(state, ('batch', 'enc_units'))\n",
        "\n",
        "    # 4. Returns the new sequence and its state.\n",
        "    return output, state"
      ]
    },
    {
      "cell_type": "code",
      "execution_count": 413,
      "metadata": {
        "colab": {
          "base_uri": "https://localhost:8080/"
        },
        "id": "KpjMHsRswcvZ",
        "outputId": "fb0cb638-0c9b-411a-af46-a0a4c1293874"
      },
      "outputs": [
        {
          "output_type": "stream",
          "name": "stdout",
          "text": [
            "Input batch, shape (batch): (64,)\n",
            "Input batch tokens, shape (batch, s): (64, 30)\n",
            "Encoder output, shape (batch, s, units): (64, 30, 1024)\n",
            "Encoder state, shape (batch, units): (64, 1024)\n"
          ]
        }
      ],
      "source": [
        "# Convert the input text to tokens.\n",
        "example_tokens = input_text_processor(example_input_batch)\n",
        "\n",
        "# Encode the input sequence.\n",
        "encoder = Encoder(input_text_processor.vocabulary_size(),\n",
        "                  embedding_dim, units)\n",
        "example_enc_output, example_enc_state = encoder(example_tokens)\n",
        "\n",
        "print(f'Input batch, shape (batch): {example_input_batch.shape}')\n",
        "print(f'Input batch tokens, shape (batch, s): {example_tokens.shape}')\n",
        "print(f'Encoder output, shape (batch, s, units): {example_enc_output.shape}')\n",
        "print(f'Encoder state, shape (batch, units): {example_enc_state.shape}')"
      ]
    },
    {
      "cell_type": "code",
      "execution_count": 414,
      "metadata": {
        "id": "0tioEGXSwesZ"
      },
      "outputs": [],
      "source": [
        "#This tutorial uses Bahdanau's additive attention. TensorFlow includes implementations of both as layers.Attention and layers.AdditiveAttention. \n",
        "#The class below handles the weight matrices in a pair of layers.Dense layers, and calls the builtin implementation.\n",
        "\n",
        "class BahdanauAttention(tf.keras.layers.Layer):\n",
        "  def __init__(self, units):\n",
        "    super().__init__()\n",
        "    # For Eqn. (4), the  Bahdanau attention\n",
        "    self.W1 = tf.keras.layers.Dense(units, use_bias=False)\n",
        "    self.W2 = tf.keras.layers.Dense(units, use_bias=False)\n",
        "\n",
        "    self.attention = tf.keras.layers.AdditiveAttention()\n",
        "\n",
        "  def call(self, query, value, mask):\n",
        "    shape_checker = ShapeChecker()\n",
        "    shape_checker(query, ('batch', 't', 'query_units'))\n",
        "    shape_checker(value, ('batch', 's', 'value_units'))\n",
        "    shape_checker(mask, ('batch', 's'))\n",
        "\n",
        "    # From Eqn. (4), `W1@ht`.\n",
        "    w1_query = self.W1(query)\n",
        "    shape_checker(w1_query, ('batch', 't', 'attn_units'))\n",
        "\n",
        "    # From Eqn. (4), `W2@hs`.\n",
        "    w2_key = self.W2(value)\n",
        "    shape_checker(w2_key, ('batch', 's', 'attn_units'))\n",
        "\n",
        "    query_mask = tf.ones(tf.shape(query)[:-1], dtype=bool)\n",
        "    value_mask = mask\n",
        "\n",
        "    context_vector, attention_weights = self.attention(\n",
        "        inputs = [w1_query, value, w2_key],\n",
        "        mask=[query_mask, value_mask],\n",
        "        return_attention_scores = True,\n",
        "    )\n",
        "    shape_checker(context_vector, ('batch', 't', 'value_units'))\n",
        "    shape_checker(attention_weights, ('batch', 't', 's'))\n",
        "\n",
        "    return context_vector, attention_weights"
      ]
    },
    {
      "cell_type": "code",
      "execution_count": 415,
      "metadata": {
        "id": "rLEJVVMmwjXx"
      },
      "outputs": [],
      "source": [
        "#Creating a BahdanauAttention layer:\n",
        "attention_layer = BahdanauAttention(units)"
      ]
    },
    {
      "cell_type": "code",
      "execution_count": 416,
      "metadata": {
        "colab": {
          "base_uri": "https://localhost:8080/"
        },
        "id": "AxQTqzOzwlOh",
        "outputId": "abeee2bc-6bbd-4414-f6f3-7eef87b2d835"
      },
      "outputs": [
        {
          "output_type": "execute_result",
          "data": {
            "text/plain": [
              "TensorShape([64, 30])"
            ]
          },
          "metadata": {},
          "execution_count": 416
        }
      ],
      "source": [
        "(example_tokens != 0).shape"
      ]
    },
    {
      "cell_type": "code",
      "execution_count": 417,
      "metadata": {
        "colab": {
          "base_uri": "https://localhost:8080/"
        },
        "id": "XucK4JH5wmsh",
        "outputId": "ac3cde54-7b3e-4600-b1f2-3bc1d7c2e7d0"
      },
      "outputs": [
        {
          "output_type": "stream",
          "name": "stdout",
          "text": [
            "Attention result shape: (batch_size, query_seq_length, units):           (64, 2, 1024)\n",
            "Attention weights shape: (batch_size, query_seq_length, value_seq_length): (64, 2, 30)\n"
          ]
        }
      ],
      "source": [
        "#vectorized implementation of the attention layer lets you pass a batch \n",
        "#of sequences of query vectors and a batch of sequence of value vectors. \n",
        "#This will return a batch of sequences of result vectors the size of the queries.\n",
        "example_attention_query = tf.random.normal(shape=[len(example_tokens), 2, 10])\n",
        "context_vector, attention_weights = attention_layer(\n",
        "    query=example_attention_query,\n",
        "    value=example_enc_output,\n",
        "    mask=(example_tokens != 0))\n",
        "\n",
        "print(f'Attention result shape: (batch_size, query_seq_length, units):           {context_vector.shape}')\n",
        "print(f'Attention weights shape: (batch_size, query_seq_length, value_seq_length): {attention_weights.shape}')"
      ]
    },
    {
      "cell_type": "code",
      "execution_count": 418,
      "metadata": {
        "colab": {
          "base_uri": "https://localhost:8080/",
          "height": 298
        },
        "id": "LtuBw6AwwotB",
        "outputId": "2e21e38e-7b26-4a25-db60-12553ab72e2e"
      },
      "outputs": [
        {
          "output_type": "execute_result",
          "data": {
            "text/plain": [
              "Text(0.5, 1.0, 'Mask')"
            ]
          },
          "metadata": {},
          "execution_count": 418
        },
        {
          "output_type": "display_data",
          "data": {
            "text/plain": [
              "<Figure size 432x288 with 2 Axes>"
            ],
            "image/png": "[encoded data removed]"
          },
          "metadata": {
            "needs_background": "light"
          }
        }
      ],
      "source": [
        "plt.subplot(1, 2, 1)\n",
        "plt.pcolormesh(attention_weights[:, 0, :])\n",
        "plt.title('Attention weights')\n",
        "\n",
        "plt.subplot(1, 2, 2)\n",
        "plt.pcolormesh(example_tokens != 0)\n",
        "plt.title('Mask')\n"
      ]
    },
    {
      "cell_type": "code",
      "execution_count": 419,
      "metadata": {
        "colab": {
          "base_uri": "https://localhost:8080/"
        },
        "id": "zrNukkygxFix",
        "outputId": "cce422e6-e9db-462f-fcf6-f684660bd068"
      },
      "outputs": [
        {
          "output_type": "execute_result",
          "data": {
            "text/plain": [
              "TensorShape([64, 2, 30])"
            ]
          },
          "metadata": {},
          "execution_count": 419
        }
      ],
      "source": [
        "attention_weights.shape"
      ]
    },
    {
      "cell_type": "code",
      "execution_count": 420,
      "metadata": {
        "id": "CpjBOBL1xGTf"
      },
      "outputs": [],
      "source": [
        "attention_slice = attention_weights[0, 0].numpy()\n",
        "attention_slice = attention_slice[attention_slice != 0]"
      ]
    },
    {
      "cell_type": "code",
      "execution_count": 421,
      "metadata": {
        "colab": {
          "base_uri": "https://localhost:8080/",
          "height": 423
        },
        "id": "S5T4koFJxIPq",
        "outputId": "2784471b-fe9c-4c8d-b4af-0ea68130fee9"
      },
      "outputs": [
        {
          "output_type": "execute_result",
          "data": {
            "text/plain": [
              "[<matplotlib.lines.Line2D at 0x7f6365f6c090>]"
            ]
          },
          "metadata": {},
          "execution_count": 421
        },
        {
          "output_type": "display_data",
          "data": {
            "text/plain": [
              "<Figure size 432x288 with 0 Axes>"
            ]
          },
          "metadata": {}
        },
        {
          "output_type": "display_data",
          "data": {
            "text/plain": [
              "<Figure size 864x432 with 2 Axes>"
            ],
            "image/png": "[encoded data removed]"
          },
          "metadata": {
            "needs_background": "light"
          }
        }
      ],
      "source": [
        "#@title\n",
        "plt.suptitle('Attention weights for one sequence')\n",
        "\n",
        "plt.figure(figsize=(12, 6))\n",
        "a1 = plt.subplot(1, 2, 1)\n",
        "plt.bar(range(len(attention_slice)), attention_slice)\n",
        "plt.xlim(plt.xlim())\n",
        "plt.xlabel('Attention weights')\n",
        "\n",
        "a2 = plt.subplot(1, 2, 2)\n",
        "plt.bar(range(len(attention_slice)), attention_slice)\n",
        "plt.xlabel('Attention weights, zoomed')\n",
        "\n",
        "top = max(a1.get_ylim())\n",
        "zoom = 0.85*top\n",
        "a2.set_ylim([0.90*top, top])\n",
        "a1.plot(a1.get_xlim(), [zoom, zoom], color='k')"
      ]
    },
    {
      "cell_type": "code",
      "execution_count": 422,
      "metadata": {
        "id": "Rik9s9cQxKmy"
      },
      "outputs": [],
      "source": [
        "#The decoder will predict the next output token.\n",
        "\n",
        "class Decoder(tf.keras.layers.Layer):\n",
        "  def __init__(self, output_vocab_size, embedding_dim, dec_units):\n",
        "    super(Decoder, self).__init__()\n",
        "    self.dec_units = dec_units\n",
        "    self.output_vocab_size = output_vocab_size\n",
        "    self.embedding_dim = embedding_dim\n",
        "\n",
        "    # For Step 1. The embedding layer convets token IDs to vectors\n",
        "    self.embedding = tf.keras.layers.Embedding(self.output_vocab_size,\n",
        "                                               embedding_dim)\n",
        "\n",
        "    # For Step 2. The RNN keeps track of what's been generated so far.\n",
        "    self.gru = tf.keras.layers.GRU(self.dec_units,\n",
        "                                   return_sequences=True,\n",
        "                                   return_state=True,\n",
        "                                   recurrent_initializer='glorot_uniform')\n",
        "\n",
        "    # For step 3. The RNN output will be the query for the attention layer.\n",
        "    self.attention = BahdanauAttention(self.dec_units)\n",
        "\n",
        "    # For step 4. Eqn. (3): converting `ct` to `at`\n",
        "    self.Wc = tf.keras.layers.Dense(dec_units, activation=tf.math.tanh,\n",
        "                                    use_bias=False)\n",
        "\n",
        "    # For step 5. This fully connected layer produces the logits for each\n",
        "    # output token.\n",
        "    self.fc = tf.keras.layers.Dense(self.output_vocab_size)"
      ]
    },
    {
      "cell_type": "code",
      "execution_count": 423,
      "metadata": {
        "id": "Ro39vo8HxVsp"
      },
      "outputs": [],
      "source": [
        "#This layer's call function accepts and returns several tensors. Sort them into basic container classes.\n",
        "class DecoderInput(typing.NamedTuple):\n",
        "  new_tokens: Any\n",
        "  enc_output: Any\n",
        "  mask: Any\n",
        "\n",
        "class DecoderOutput(typing.NamedTuple):\n",
        "  logits: Any\n",
        "  attention_weights: Any"
      ]
    },
    {
      "cell_type": "code",
      "execution_count": 424,
      "metadata": {
        "id": "ZoMstJe6xWiz"
      },
      "outputs": [],
      "source": [
        "def call(self,\n",
        "         inputs: DecoderInput,\n",
        "         state=None) -> Tuple[DecoderOutput, tf.Tensor]:\n",
        "  shape_checker = ShapeChecker()\n",
        "  shape_checker(inputs.new_tokens, ('batch', 't'))\n",
        "  shape_checker(inputs.enc_output, ('batch', 's', 'enc_units'))\n",
        "  shape_checker(inputs.mask, ('batch', 's'))\n",
        "\n",
        "  if state is not None:\n",
        "    shape_checker(state, ('batch', 'dec_units'))\n",
        "\n",
        "  # Step 1. Lookup the embeddings\n",
        "  vectors = self.embedding(inputs.new_tokens)\n",
        "  shape_checker(vectors, ('batch', 't', 'embedding_dim'))\n",
        "\n",
        "  # Step 2. Process one step with the RNN\n",
        "  rnn_output, state = self.gru(vectors, initial_state=state)\n",
        "\n",
        "  shape_checker(rnn_output, ('batch', 't', 'dec_units'))\n",
        "  shape_checker(state, ('batch', 'dec_units'))\n",
        "\n",
        "  # Step 3. Use the RNN output as the query for the attention over the\n",
        "  # encoder output.\n",
        "  context_vector, attention_weights = self.attention(\n",
        "      query=rnn_output, value=inputs.enc_output, mask=inputs.mask)\n",
        "  shape_checker(context_vector, ('batch', 't', 'dec_units'))\n",
        "  shape_checker(attention_weights, ('batch', 't', 's'))\n",
        "\n",
        "  # Step 4. Eqn. (3): Join the context_vector and rnn_output\n",
        "  #     [ct; ht] shape: (batch t, value_units + query_units)\n",
        "  context_and_rnn_output = tf.concat([context_vector, rnn_output], axis=-1)\n",
        "\n",
        "  # Step 4. Eqn. (3): `at = tanh(Wc@[ct; ht])`\n",
        "  attention_vector = self.Wc(context_and_rnn_output)\n",
        "  shape_checker(attention_vector, ('batch', 't', 'dec_units'))\n",
        "\n",
        "  # Step 5. Generate logit predictions:\n",
        "  logits = self.fc(attention_vector)\n",
        "  shape_checker(logits, ('batch', 't', 'output_vocab_size'))\n",
        "\n",
        "  return DecoderOutput(logits, attention_weights), state"
      ]
    },
    {
      "cell_type": "code",
      "execution_count": 425,
      "metadata": {
        "id": "H4UBQ3uMxYyj"
      },
      "outputs": [],
      "source": [
        "Decoder.call = call"
      ]
    },
    {
      "cell_type": "code",
      "execution_count": 426,
      "metadata": {
        "id": "UxT_zNAJxbKr"
      },
      "outputs": [],
      "source": [
        "decoder = Decoder(output_text_processor.vocabulary_size(),\n",
        "                  embedding_dim, units)"
      ]
    },
    {
      "cell_type": "code",
      "execution_count": 427,
      "metadata": {
        "id": "kDKnNJZgxcuy"
      },
      "outputs": [],
      "source": [
        "# Convert the target sequence, and collect the \"[START]\" tokens\n",
        "example_output_tokens = output_text_processor(example_target_batch)\n",
        "\n",
        "start_index = output_text_processor.get_vocabulary().index('[START]')\n",
        "first_token = tf.constant([[start_index]] * example_output_tokens.shape[0])"
      ]
    },
    {
      "cell_type": "code",
      "execution_count": 428,
      "metadata": {
        "colab": {
          "base_uri": "https://localhost:8080/"
        },
        "id": "3QsNs6hExei3",
        "outputId": "e3a34440-7ae2-4a9b-af43-d7565ff57367"
      },
      "outputs": [
        {
          "output_type": "stream",
          "name": "stdout",
          "text": [
            "logits shape: (batch_size, t, output_vocab_size) (64, 1, 1294)\n",
            "state shape: (batch_size, dec_units) (64, 1024)\n"
          ]
        }
      ],
      "source": [
        "# Run the decoder\n",
        "dec_result, dec_state = decoder(\n",
        "    inputs = DecoderInput(new_tokens=first_token,\n",
        "                          enc_output=example_enc_output,\n",
        "                          mask=(example_tokens != 0)),\n",
        "    state = example_enc_state\n",
        ")\n",
        "\n",
        "print(f'logits shape: (batch_size, t, output_vocab_size) {dec_result.logits.shape}')\n",
        "print(f'state shape: (batch_size, dec_units) {dec_state.shape}')"
      ]
    },
    {
      "cell_type": "code",
      "execution_count": 429,
      "metadata": {
        "id": "oZFfUgMmxlsP"
      },
      "outputs": [],
      "source": [
        "#Sample a token according to the logits:\n",
        "sampled_token = tf.random.categorical(dec_result.logits[:, 0, :], num_samples=1)"
      ]
    },
    {
      "cell_type": "code",
      "execution_count": 430,
      "metadata": {
        "colab": {
          "base_uri": "https://localhost:8080/"
        },
        "id": "R3fMqGBfxnFO",
        "outputId": "d5443917-250d-4038-e22c-76f29aaa1f1d"
      },
      "outputs": [
        {
          "output_type": "execute_result",
          "data": {
            "text/plain": [
              "array([['long'],\n",
              "       ['(1h)VOMIT/HATE'],\n",
              "       ['FAST_3'],\n",
              "       ['HAMBURGER'],\n",
              "       ['(2h)alt.TEASE']], dtype='<U33')"
            ]
          },
          "metadata": {},
          "execution_count": 430
        }
      ],
      "source": [
        "vocab = np.array(output_text_processor.get_vocabulary())\n",
        "first_word = vocab[sampled_token.numpy()]\n",
        "first_word[:5]"
      ]
    },
    {
      "cell_type": "code",
      "execution_count": 431,
      "metadata": {
        "id": "Extz_k8Gxpa-"
      },
      "outputs": [],
      "source": [
        "dec_result, dec_state = decoder(\n",
        "    DecoderInput(sampled_token,\n",
        "                 example_enc_output,\n",
        "                 mask=(example_tokens != 0)),\n",
        "    state=dec_state)"
      ]
    },
    {
      "cell_type": "code",
      "execution_count": 432,
      "metadata": {
        "colab": {
          "base_uri": "https://localhost:8080/"
        },
        "id": "AzHr4VTHxrVm",
        "outputId": "9217eda5-192e-4321-ea0d-4b0018f4dd32"
      },
      "outputs": [
        {
          "output_type": "execute_result",
          "data": {
            "text/plain": [
              "array([['TIE_2+FISHING'],\n",
              "       ['GLASSES_2'],\n",
              "       ['pay'],\n",
              "       ['GRADUATE'],\n",
              "       ['DINNER+']], dtype='<U33')"
            ]
          },
          "metadata": {},
          "execution_count": 432
        }
      ],
      "source": [
        "sampled_token = tf.random.categorical(dec_result.logits[:, 0, :], num_samples=1)\n",
        "first_word = vocab[sampled_token.numpy()]\n",
        "first_word[:5]"
      ]
    },
    {
      "cell_type": "code",
      "execution_count": 433,
      "metadata": {
        "id": "LfD37Uv3xtxQ"
      },
      "outputs": [],
      "source": [
        "#Defining the loss function\n",
        "class MaskedLoss(tf.keras.losses.Loss):\n",
        "  def __init__(self):\n",
        "    self.name = 'masked_loss'\n",
        "    self.loss = tf.keras.losses.SparseCategoricalCrossentropy(\n",
        "        from_logits=True, reduction='none')\n",
        "\n",
        "  def __call__(self, y_true, y_pred):\n",
        "    shape_checker = ShapeChecker()\n",
        "    shape_checker(y_true, ('batch', 't'))\n",
        "    shape_checker(y_pred, ('batch', 't', 'logits'))\n",
        "\n",
        "    # Calculate the loss for each item in the batch.\n",
        "    loss = self.loss(y_true, y_pred)\n",
        "    shape_checker(loss, ('batch', 't'))\n",
        "\n",
        "    # Mask off the losses on padding.\n",
        "    mask = tf.cast(y_true != 0, tf.float32)\n",
        "    shape_checker(mask, ('batch', 't'))\n",
        "    loss *= mask\n",
        "\n",
        "    # Return the total.\n",
        "    return tf.reduce_sum(loss)"
      ]
    },
    {
      "cell_type": "code",
      "execution_count": 434,
      "metadata": {
        "id": "P3SgVWo2xu0m"
      },
      "outputs": [],
      "source": [
        "#The training process will be implemented as the train_step method on this model\n",
        "#The train step function acts as a wrapper for the _train step implementation, which will be provided later. \n",
        "#To facilitate debugging, this wrapper offers a switch for turning on and off tf.function compilation.\n",
        "class TrainTranslator(tf.keras.Model):\n",
        "  def __init__(self, embedding_dim, units,\n",
        "               input_text_processor,\n",
        "               output_text_processor, \n",
        "               use_tf_function=True):\n",
        "    super().__init__()\n",
        "    # Build the encoder and decoder\n",
        "    encoder = Encoder(input_text_processor.vocabulary_size(),\n",
        "                      embedding_dim, units)\n",
        "    decoder = Decoder(output_text_processor.vocabulary_size(),\n",
        "                      embedding_dim, units)\n",
        "\n",
        "    self.encoder = encoder\n",
        "    self.decoder = decoder\n",
        "    self.input_text_processor = input_text_processor\n",
        "    self.output_text_processor = output_text_processor\n",
        "    self.use_tf_function = use_tf_function\n",
        "    self.shape_checker = ShapeChecker()\n",
        "\n",
        "  def train_step(self, inputs):\n",
        "    self.shape_checker = ShapeChecker()\n",
        "    if self.use_tf_function:\n",
        "      return self._tf_train_step(inputs)\n",
        "    else:\n",
        "      return self._train_step(inputs)"
      ]
    },
    {
      "cell_type": "code",
      "execution_count": 435,
      "metadata": {
        "id": "RH6m2U-Vxwsv"
      },
      "outputs": [],
      "source": [
        "#Preprocessing\n",
        "def _preprocess(self, input_text, target_text):\n",
        "  self.shape_checker(input_text, ('batch',))\n",
        "  self.shape_checker(target_text, ('batch',))\n",
        "\n",
        "  # Convert the text to token IDs\n",
        "  input_tokens = self.input_text_processor(input_text)\n",
        "  target_tokens = self.output_text_processor(target_text)\n",
        "  self.shape_checker(input_tokens, ('batch', 's'))\n",
        "  self.shape_checker(target_tokens, ('batch', 't'))\n",
        "\n",
        "  # Convert IDs to masks.\n",
        "  input_mask = input_tokens != 0\n",
        "  self.shape_checker(input_mask, ('batch', 's'))\n",
        "\n",
        "  target_mask = target_tokens != 0\n",
        "  self.shape_checker(target_mask, ('batch', 't'))\n",
        "\n",
        "  return input_tokens, input_mask, target_tokens, target_mask"
      ]
    },
    {
      "cell_type": "code",
      "execution_count": 436,
      "metadata": {
        "id": "BPRdz7jyxzb-"
      },
      "outputs": [],
      "source": [
        "TrainTranslator._preprocess = _preprocess"
      ]
    },
    {
      "cell_type": "code",
      "execution_count": 437,
      "metadata": {
        "id": "8rd7KgEix0Jg"
      },
      "outputs": [],
      "source": [
        "#Except for actually executing the decoder, the '_train step' function added below handles the other steps:\n",
        "def _train_step(self, inputs):\n",
        "  input_text, target_text = inputs  \n",
        "\n",
        "  (input_tokens, input_mask,\n",
        "   target_tokens, target_mask) = self._preprocess(input_text, target_text)\n",
        "\n",
        "  max_target_length = tf.shape(target_tokens)[1]\n",
        "\n",
        "  with tf.GradientTape() as tape:\n",
        "    # Encode the input\n",
        "    enc_output, enc_state = self.encoder(input_tokens)\n",
        "    self.shape_checker(enc_output, ('batch', 's', 'enc_units'))\n",
        "    self.shape_checker(enc_state, ('batch', 'enc_units'))\n",
        "\n",
        "    dec_state = enc_state\n",
        "    loss = tf.constant(0.0)\n",
        "\n",
        "    for t in tf.range(max_target_length-1):\n",
        "      new_tokens = target_tokens[:, t:t+2]\n",
        "      step_loss, dec_state = self._loop_step(new_tokens, input_mask,\n",
        "                                             enc_output, dec_state)\n",
        "      loss = loss + step_loss\n",
        "\n",
        "    average_loss = loss / tf.reduce_sum(tf.cast(target_mask, tf.float32))\n",
        "\n",
        "  variables = self.trainable_variables \n",
        "  gradients = tape.gradient(average_loss, variables)\n",
        "  self.optimizer.apply_gradients(zip(gradients, variables))\n",
        "  return {'batch_loss': average_loss}"
      ]
    },
    {
      "cell_type": "code",
      "execution_count": 438,
      "metadata": {
        "id": "WGuhWlRIx12J"
      },
      "outputs": [],
      "source": [
        "TrainTranslator._train_step = _train_step"
      ]
    },
    {
      "cell_type": "code",
      "execution_count": 439,
      "metadata": {
        "id": "l5qZ8M7fx3zw"
      },
      "outputs": [],
      "source": [
        "#The _loop step method runs the decoder and calculates the incremental loss and new decoder state (dec state).\n",
        "def _loop_step(self, new_tokens, input_mask, enc_output, dec_state):\n",
        "  input_token, target_token = new_tokens[:, 0:1], new_tokens[:, 1:2]\n",
        "\n",
        "  decoder_input = DecoderInput(new_tokens=input_token,\n",
        "                               enc_output=enc_output,\n",
        "                               mask=input_mask)\n",
        "\n",
        "  dec_result, dec_state = self.decoder(decoder_input, state=dec_state)\n",
        "  self.shape_checker(dec_result.logits, ('batch', 't1', 'logits'))\n",
        "  self.shape_checker(dec_result.attention_weights, ('batch', 't1', 's'))\n",
        "  self.shape_checker(dec_state, ('batch', 'dec_units'))\n",
        "\n",
        "  y = target_token\n",
        "  y_pred = dec_result.logits\n",
        "  step_loss = self.loss(y, y_pred)\n",
        "\n",
        "  return step_loss, dec_state"
      ]
    },
    {
      "cell_type": "code",
      "execution_count": 440,
      "metadata": {
        "id": "QGPZypjtx5Vo"
      },
      "outputs": [],
      "source": [
        "TrainTranslator._loop_step = _loop_step"
      ]
    },
    {
      "cell_type": "code",
      "execution_count": 441,
      "metadata": {
        "id": "Pbx2k-JBx66w"
      },
      "outputs": [],
      "source": [
        "#Creating a TrainTranslator and configure it for Model-based training. technique of compilation:\n",
        "translator = TrainTranslator(\n",
        "    embedding_dim, units,\n",
        "    input_text_processor=input_text_processor,\n",
        "    output_text_processor=output_text_processor,\n",
        "    use_tf_function=False)\n",
        "\n",
        "translator.compile(\n",
        "    optimizer=tf.optimizers.Adam(),\n",
        "    loss=MaskedLoss(),\n",
        ")"
      ]
    },
    {
      "cell_type": "code",
      "execution_count": 442,
      "metadata": {
        "colab": {
          "base_uri": "https://localhost:8080/"
        },
        "id": "Retn8Fu4x8hI",
        "outputId": "8b1d0d14-10ab-429c-eeae-7db26fbb79d9"
      },
      "outputs": [
        {
          "output_type": "execute_result",
          "data": {
            "text/plain": [
              "7.165493475060845"
            ]
          },
          "metadata": {},
          "execution_count": 442
        }
      ],
      "source": [
        "np.log(output_text_processor.vocabulary_size())"
      ]
    },
    {
      "cell_type": "code",
      "execution_count": 443,
      "metadata": {
        "colab": {
          "base_uri": "https://localhost:8080/"
        },
        "id": "gwp9sMRMx94R",
        "outputId": "c2664767-ccb2-49e8-d83d-4e75878efa4d"
      },
      "outputs": [
        {
          "output_type": "stream",
          "name": "stdout",
          "text": [
            "{'batch_loss': <tf.Tensor: shape=(), dtype=float32, numpy=6.666546>}\n",
            "{'batch_loss': <tf.Tensor: shape=(), dtype=float32, numpy=6.638779>}\n",
            "{'batch_loss': <tf.Tensor: shape=(), dtype=float32, numpy=6.5918975>}\n",
            "{'batch_loss': <tf.Tensor: shape=(), dtype=float32, numpy=6.466107>}\n",
            "{'batch_loss': <tf.Tensor: shape=(), dtype=float32, numpy=5.963992>}\n",
            "{'batch_loss': <tf.Tensor: shape=(), dtype=float32, numpy=8.171035>}\n",
            "{'batch_loss': <tf.Tensor: shape=(), dtype=float32, numpy=5.4049816>}\n",
            "{'batch_loss': <tf.Tensor: shape=(), dtype=float32, numpy=5.5426936>}\n",
            "{'batch_loss': <tf.Tensor: shape=(), dtype=float32, numpy=5.5852084>}\n",
            "{'batch_loss': <tf.Tensor: shape=(), dtype=float32, numpy=5.4214463>}\n",
            "\n",
            "CPU times: user 20.9 s, sys: 201 ms, total: 21.1 s\n",
            "Wall time: 28.5 s\n"
          ]
        }
      ],
      "source": [
        "%%time\n",
        "for n in range(10):\n",
        "  print(translator.train_step([example_input_batch, example_target_batch]))\n",
        "print()"
      ]
    },
    {
      "cell_type": "code",
      "execution_count": 444,
      "metadata": {
        "id": "i2d64yEqygGA"
      },
      "outputs": [],
      "source": [
        "@tf.function(input_signature=[[tf.TensorSpec(dtype=tf.string, shape=[None]),\n",
        "                               tf.TensorSpec(dtype=tf.string, shape=[None])]])\n",
        "def _tf_train_step(self, inputs):\n",
        "  return self._train_step(inputs)"
      ]
    },
    {
      "cell_type": "code",
      "execution_count": 445,
      "metadata": {
        "id": "ih02KzieykyN"
      },
      "outputs": [],
      "source": [
        "TrainTranslator._tf_train_step = _tf_train_step"
      ]
    },
    {
      "cell_type": "code",
      "execution_count": 446,
      "metadata": {
        "id": "PcZDKYYEymsk"
      },
      "outputs": [],
      "source": [
        "translator.use_tf_function = True"
      ]
    },
    {
      "cell_type": "code",
      "execution_count": 447,
      "metadata": {
        "colab": {
          "base_uri": "https://localhost:8080/"
        },
        "id": "H7oMzjo2yoQk",
        "outputId": "c7a36952-690f-4bd7-de02-f606ad5915cd"
      },
      "outputs": [
        {
          "output_type": "execute_result",
          "data": {
            "text/plain": [
              "{'batch_loss': <tf.Tensor: shape=(), dtype=float32, numpy=5.155012>}"
            ]
          },
          "metadata": {},
          "execution_count": 447
        }
      ],
      "source": [
        "#Functional Tracing\n",
        "translator.train_step([example_input_batch, example_target_batch])"
      ]
    },
    {
      "cell_type": "code",
      "execution_count": 448,
      "metadata": {
        "colab": {
          "base_uri": "https://localhost:8080/"
        },
        "id": "Y_3lJuuPyueM",
        "outputId": "fe0e0003-b088-43e1-fcac-c0033ec5e7bb"
      },
      "outputs": [
        {
          "output_type": "stream",
          "name": "stdout",
          "text": [
            "{'batch_loss': <tf.Tensor: shape=(), dtype=float32, numpy=5.2503495>}\n",
            "{'batch_loss': <tf.Tensor: shape=(), dtype=float32, numpy=5.0181503>}\n",
            "{'batch_loss': <tf.Tensor: shape=(), dtype=float32, numpy=4.993133>}\n",
            "{'batch_loss': <tf.Tensor: shape=(), dtype=float32, numpy=4.966715>}\n",
            "{'batch_loss': <tf.Tensor: shape=(), dtype=float32, numpy=4.9424453>}\n",
            "{'batch_loss': <tf.Tensor: shape=(), dtype=float32, numpy=4.916118>}\n",
            "{'batch_loss': <tf.Tensor: shape=(), dtype=float32, numpy=4.882797>}\n",
            "{'batch_loss': <tf.Tensor: shape=(), dtype=float32, numpy=4.8399377>}\n",
            "{'batch_loss': <tf.Tensor: shape=(), dtype=float32, numpy=4.7872624>}\n",
            "{'batch_loss': <tf.Tensor: shape=(), dtype=float32, numpy=4.726808>}\n",
            "\n",
            "CPU times: user 7.93 s, sys: 813 ms, total: 8.74 s\n",
            "Wall time: 5.19 s\n"
          ]
        }
      ],
      "source": [
        "%%time\n",
        "for n in range(10):\n",
        "  print(translator.train_step([example_input_batch, example_target_batch]))\n",
        "print()"
      ]
    },
    {
      "cell_type": "code",
      "execution_count": 449,
      "metadata": {
        "colab": {
          "base_uri": "https://localhost:8080/",
          "height": 300
        },
        "id": "MGf3foCIzkZl",
        "outputId": "c7463738-7e35-40d9-fc20-cf0824772a12"
      },
      "outputs": [
        {
          "output_type": "stream",
          "name": "stdout",
          "text": [
            "....................................................................................................\n"
          ]
        },
        {
          "output_type": "execute_result",
          "data": {
            "text/plain": [
              "[<matplotlib.lines.Line2D at 0x7f62054f9a10>]"
            ]
          },
          "metadata": {},
          "execution_count": 449
        },
        {
          "output_type": "display_data",
          "data": {
            "text/plain": [
              "<Figure size 432x288 with 1 Axes>"
            ],
            "image/png": "[encoded data removed]"
          },
          "metadata": {
            "needs_background": "light"
          }
        }
      ],
      "source": [
        "losses = []\n",
        "for n in range(100):\n",
        "  print('.', end='')\n",
        "  logs = translator.train_step([example_input_batch, example_target_batch])\n",
        "  losses.append(logs['batch_loss'].numpy())\n",
        "\n",
        "print()\n",
        "plt.plot(losses)"
      ]
    },
    {
      "cell_type": "code",
      "execution_count": 450,
      "metadata": {
        "id": "tKxewQGVzIU9"
      },
      "outputs": [],
      "source": [
        "#Build a fresh copy of the Model\n",
        "train_translator = TrainTranslator(\n",
        "    embedding_dim, units,\n",
        "    input_text_processor=input_text_processor,\n",
        "    output_text_processor=output_text_processor)\n",
        "train_translator.compile(\n",
        "    optimizer=tf.optimizers.Adam(),\n",
        "    loss=MaskedLoss(),\n",
        ")"
      ]
    },
    {
      "cell_type": "code",
      "execution_count": 451,
      "metadata": {
        "id": "Cok_g9VmzKvU"
      },
      "outputs": [],
      "source": [
        "#Model Training\n",
        "class BatchLogs(tf.keras.callbacks.Callback):\n",
        "  def __init__(self, key):\n",
        "    self.key = key\n",
        "    self.logs = []\n",
        "\n",
        "  def on_train_batch_end(self, n, logs):\n",
        "    self.logs.append(logs[self.key])\n",
        "\n",
        "batch_loss = BatchLogs('batch_loss')"
      ]
    },
    {
      "cell_type": "code",
      "execution_count": 452,
      "metadata": {
        "colab": {
          "base_uri": "https://localhost:8080/"
        },
        "id": "Q5NZlq7zzO3A",
        "outputId": "12cf17d0-e744-46a9-b660-15b1fcf7f577"
      },
      "outputs": [
        {
          "output_type": "stream",
          "name": "stdout",
          "text": [
            "Epoch 1/50\n",
            "11/11 [==============================] - 12s 519ms/step - batch_loss: 6.4550\n",
            "Epoch 2/50\n",
            "11/11 [==============================] - 6s 506ms/step - batch_loss: 5.7013\n",
            "Epoch 3/50\n",
            "11/11 [==============================] - 6s 503ms/step - batch_loss: 5.4745\n",
            "Epoch 4/50\n",
            "11/11 [==============================] - 6s 521ms/step - batch_loss: 5.2927\n",
            "Epoch 5/50\n",
            "11/11 [==============================] - 6s 515ms/step - batch_loss: 5.1462\n",
            "Epoch 6/50\n",
            "11/11 [==============================] - 6s 519ms/step - batch_loss: 4.9748\n",
            "Epoch 7/50\n",
            "11/11 [==============================] - 6s 524ms/step - batch_loss: 4.8217\n",
            "Epoch 8/50\n",
            "11/11 [==============================] - 5s 495ms/step - batch_loss: 4.5490\n",
            "Epoch 9/50\n",
            "11/11 [==============================] - 5s 497ms/step - batch_loss: 4.2585\n",
            "Epoch 10/50\n",
            "11/11 [==============================] - 5s 443ms/step - batch_loss: 3.9761\n",
            "Epoch 11/50\n",
            "11/11 [==============================] - 5s 426ms/step - batch_loss: 3.6327\n",
            "Epoch 12/50\n",
            "11/11 [==============================] - 5s 434ms/step - batch_loss: 3.3256\n",
            "Epoch 13/50\n",
            "11/11 [==============================] - 5s 417ms/step - batch_loss: 3.0115\n",
            "Epoch 14/50\n",
            "11/11 [==============================] - 5s 438ms/step - batch_loss: 2.7526\n",
            "Epoch 15/50\n",
            "11/11 [==============================] - 5s 444ms/step - batch_loss: 2.4667\n",
            "Epoch 16/50\n",
            "11/11 [==============================] - 5s 446ms/step - batch_loss: 2.1600\n",
            "Epoch 17/50\n",
            "11/11 [==============================] - 5s 428ms/step - batch_loss: 1.8959\n",
            "Epoch 18/50\n",
            "11/11 [==============================] - 5s 459ms/step - batch_loss: 1.6580\n",
            "Epoch 19/50\n",
            "11/11 [==============================] - 5s 432ms/step - batch_loss: 1.4726\n",
            "Epoch 20/50\n",
            "11/11 [==============================] - 5s 450ms/step - batch_loss: 1.2973\n",
            "Epoch 21/50\n",
            "11/11 [==============================] - 5s 457ms/step - batch_loss: 1.1214\n",
            "Epoch 22/50\n",
            "11/11 [==============================] - 5s 452ms/step - batch_loss: 0.9420\n",
            "Epoch 23/50\n",
            "11/11 [==============================] - 5s 430ms/step - batch_loss: 0.7882\n",
            "Epoch 24/50\n",
            "11/11 [==============================] - 5s 436ms/step - batch_loss: 0.6622\n",
            "Epoch 25/50\n",
            "11/11 [==============================] - 5s 426ms/step - batch_loss: 0.5587\n",
            "Epoch 26/50\n",
            "11/11 [==============================] - 5s 426ms/step - batch_loss: 0.4813\n",
            "Epoch 27/50\n",
            "11/11 [==============================] - 5s 458ms/step - batch_loss: 0.4269\n",
            "Epoch 28/50\n",
            "11/11 [==============================] - 5s 454ms/step - batch_loss: 0.3583\n",
            "Epoch 29/50\n",
            "11/11 [==============================] - 5s 449ms/step - batch_loss: 0.2955\n",
            "Epoch 30/50\n",
            "11/11 [==============================] - 5s 453ms/step - batch_loss: 0.2374\n",
            "Epoch 31/50\n",
            "11/11 [==============================] - 5s 460ms/step - batch_loss: 0.1996\n",
            "Epoch 32/50\n",
            "11/11 [==============================] - 6s 505ms/step - batch_loss: 0.1642\n",
            "Epoch 33/50\n",
            "11/11 [==============================] - 5s 455ms/step - batch_loss: 0.1365\n",
            "Epoch 34/50\n",
            "11/11 [==============================] - 5s 427ms/step - batch_loss: 0.1184\n",
            "Epoch 35/50\n",
            "11/11 [==============================] - 5s 448ms/step - batch_loss: 0.0990\n",
            "Epoch 36/50\n",
            "11/11 [==============================] - 5s 448ms/step - batch_loss: 0.0883\n",
            "Epoch 37/50\n",
            "11/11 [==============================] - 5s 441ms/step - batch_loss: 0.0761\n",
            "Epoch 38/50\n",
            "11/11 [==============================] - 5s 446ms/step - batch_loss: 0.0682\n",
            "Epoch 39/50\n",
            "11/11 [==============================] - 5s 451ms/step - batch_loss: 0.0583\n",
            "Epoch 40/50\n",
            "11/11 [==============================] - 5s 426ms/step - batch_loss: 0.0531\n",
            "Epoch 41/50\n",
            "11/11 [==============================] - 5s 424ms/step - batch_loss: 0.0492\n",
            "Epoch 42/50\n",
            "11/11 [==============================] - 5s 430ms/step - batch_loss: 0.0473\n",
            "Epoch 43/50\n",
            "11/11 [==============================] - 5s 446ms/step - batch_loss: 0.0447\n",
            "Epoch 44/50\n",
            "11/11 [==============================] - 5s 429ms/step - batch_loss: 0.0423\n",
            "Epoch 45/50\n",
            "11/11 [==============================] - 5s 452ms/step - batch_loss: 0.0388\n",
            "Epoch 46/50\n",
            "11/11 [==============================] - 5s 441ms/step - batch_loss: 0.0366\n",
            "Epoch 47/50\n",
            "11/11 [==============================] - 5s 469ms/step - batch_loss: 0.0356\n",
            "Epoch 48/50\n",
            "11/11 [==============================] - 5s 469ms/step - batch_loss: 0.0326\n",
            "Epoch 49/50\n",
            "11/11 [==============================] - 5s 498ms/step - batch_loss: 0.0300\n",
            "Epoch 50/50\n",
            "11/11 [==============================] - 6s 512ms/step - batch_loss: 0.0286\n"
          ]
        },
        {
          "output_type": "execute_result",
          "data": {
            "text/plain": [
              "<keras.callbacks.History at 0x7f6320157f90>"
            ]
          },
          "metadata": {},
          "execution_count": 452
        }
      ],
      "source": [
        "#Running with 50 epochs\n",
        "train_translator.fit(dataset, epochs=50,\n",
        "                     callbacks=[batch_loss])"
      ]
    },
    {
      "cell_type": "code",
      "execution_count": 453,
      "metadata": {
        "colab": {
          "base_uri": "https://localhost:8080/",
          "height": 300
        },
        "id": "HKaOtpUE2u-U",
        "outputId": "7821bab6-da44-4f73-e432-33cb2ebfb833"
      },
      "outputs": [
        {
          "output_type": "execute_result",
          "data": {
            "text/plain": [
              "Text(0, 0.5, 'CE/token')"
            ]
          },
          "metadata": {},
          "execution_count": 453
        },
        {
          "output_type": "display_data",
          "data": {
            "text/plain": [
              "<Figure size 432x288 with 1 Axes>"
            ],
            "image/png": "[encoded data removed]"
          },
          "metadata": {
            "needs_background": "light"
          }
        }
      ],
      "source": [
        "#Generating Loss Graphics\n",
        "plt.plot(batch_loss.logs)\n",
        "plt.ylim([0, 3])\n",
        "plt.xlabel('Batch #')\n",
        "plt.ylabel('CE/token')"
      ]
    },
    {
      "cell_type": "code",
      "execution_count": 454,
      "metadata": {
        "id": "qr71zYqr2y0D"
      },
      "outputs": [],
      "source": [
        "#Text to Text Translation\n",
        "class Translator(tf.Module):\n",
        "\n",
        "  def __init__(self, encoder, decoder, input_text_processor,\n",
        "               output_text_processor):\n",
        "    self.encoder = encoder\n",
        "    self.decoder = decoder\n",
        "    self.input_text_processor = input_text_processor\n",
        "    self.output_text_processor = output_text_processor\n",
        "\n",
        "    self.output_token_string_from_index = (\n",
        "        tf.keras.layers.StringLookup(\n",
        "            vocabulary=output_text_processor.get_vocabulary(),\n",
        "            mask_token='',\n",
        "            invert=True))\n",
        "\n",
        "    index_from_string = tf.keras.layers.StringLookup(\n",
        "        vocabulary=output_text_processor.get_vocabulary(), mask_token='')\n",
        "    token_mask_ids = index_from_string(['', '[UNK]', '[START]']).numpy()\n",
        "\n",
        "    token_mask = np.zeros([index_from_string.vocabulary_size()], dtype=np.bool)\n",
        "    token_mask[np.array(token_mask_ids)] = True\n",
        "    self.token_mask = token_mask\n",
        "\n",
        "    self.start_token = index_from_string(tf.constant('[START]'))\n",
        "    self.end_token = index_from_string(tf.constant('[END]'))"
      ]
    },
    {
      "cell_type": "code",
      "execution_count": 455,
      "metadata": {
        "colab": {
          "base_uri": "https://localhost:8080/"
        },
        "id": "FJvOFv0P2z3j",
        "outputId": "3e8909ce-663c-4158-e12d-98f07d8a2b3c"
      },
      "outputs": [
        {
          "output_type": "stream",
          "name": "stderr",
          "text": [
            "/usr/local/lib/python3.7/dist-packages/ipykernel_launcher.py:21: DeprecationWarning: `np.bool` is a deprecated alias for the builtin `bool`. To silence this warning, use `bool` by itself. Doing this will not modify any behavior and is safe. If you specifically wanted the numpy scalar type, use `np.bool_` here.\n",
            "Deprecated in NumPy 1.20; for more details and guidance: https://numpy.org/devdocs/release/1.20.0-notes.html#deprecations\n"
          ]
        }
      ],
      "source": [
        "translator = Translator(\n",
        "    encoder=train_translator.encoder,\n",
        "    decoder=train_translator.decoder,\n",
        "    input_text_processor=input_text_processor,\n",
        "    output_text_processor=output_text_processor,\n",
        ")"
      ]
    },
    {
      "cell_type": "code",
      "execution_count": 456,
      "metadata": {
        "id": "JqTKUVJL23H6"
      },
      "outputs": [],
      "source": [
        "def tokens_to_text(self, result_tokens):\n",
        "  shape_checker = ShapeChecker()\n",
        "  shape_checker(result_tokens, ('batch', 't'))\n",
        "  result_text_tokens = self.output_token_string_from_index(result_tokens)\n",
        "  shape_checker(result_text_tokens, ('batch', 't'))\n",
        "\n",
        "  result_text = tf.strings.reduce_join(result_text_tokens,\n",
        "                                       axis=1, separator=' ')\n",
        "  shape_checker(result_text, ('batch'))\n",
        "\n",
        "  result_text = tf.strings.strip(result_text)\n",
        "  shape_checker(result_text, ('batch',))\n",
        "  return result_text"
      ]
    },
    {
      "cell_type": "code",
      "execution_count": 457,
      "metadata": {
        "id": "OdbEW8We25xS"
      },
      "outputs": [],
      "source": [
        "Translator.tokens_to_text = tokens_to_text"
      ]
    },
    {
      "cell_type": "code",
      "execution_count": 458,
      "metadata": {
        "colab": {
          "base_uri": "https://localhost:8080/"
        },
        "id": "BooJVEbF27gL",
        "outputId": "d4aede5f-0062-43b4-91aa-96bd180bd589"
      },
      "outputs": [
        {
          "output_type": "execute_result",
          "data": {
            "text/plain": [
              "array([b'fs-LATE EYES', b'#BQQ STORY', b'SHORTS BAKE/OVEN', b'LOOK USE+',\n",
              "       b'group SUPPORT+'], dtype=object)"
            ]
          },
          "metadata": {},
          "execution_count": 458
        }
      ],
      "source": [
        "example_output_tokens = tf.random.uniform(\n",
        "    shape=[5, 2], minval=0, dtype=tf.int64,\n",
        "    maxval=output_text_processor.vocabulary_size())\n",
        "translator.tokens_to_text(example_output_tokens).numpy()"
      ]
    },
    {
      "cell_type": "code",
      "execution_count": 459,
      "metadata": {
        "id": "VtcjLAoy3EzD"
      },
      "outputs": [],
      "source": [
        "def sample(self, logits, temperature):\n",
        "  shape_checker = ShapeChecker()\n",
        "  # 't' is usually 1 here.\n",
        "  shape_checker(logits, ('batch', 't', 'vocab'))\n",
        "  shape_checker(self.token_mask, ('vocab',))\n",
        "\n",
        "  token_mask = self.token_mask[tf.newaxis, tf.newaxis, :]\n",
        "  shape_checker(token_mask, ('batch', 't', 'vocab'), broadcast=True)\n",
        "\n",
        "  # Set the logits for all masked tokens to -inf, so they are never chosen.\n",
        "  logits = tf.where(self.token_mask, -np.inf, logits)\n",
        "\n",
        "  if temperature == 0.0:\n",
        "    new_tokens = tf.argmax(logits, axis=-1)\n",
        "  else: \n",
        "    logits = tf.squeeze(logits, axis=1)\n",
        "    new_tokens = tf.random.categorical(logits/temperature,\n",
        "                                        num_samples=1)\n",
        "  \n",
        "  shape_checker(new_tokens, ('batch', 't'))\n",
        "\n",
        "  return new_tokens"
      ]
    },
    {
      "cell_type": "code",
      "execution_count": 460,
      "metadata": {
        "id": "XDxD1gEk3G62"
      },
      "outputs": [],
      "source": [
        "Translator.sample = sample"
      ]
    },
    {
      "cell_type": "code",
      "execution_count": 461,
      "metadata": {
        "colab": {
          "base_uri": "https://localhost:8080/"
        },
        "id": "BfRrefnP3JTu",
        "outputId": "b478e7b3-34ad-41fc-ee8f-56c2a74aa842"
      },
      "outputs": [
        {
          "output_type": "execute_result",
          "data": {
            "text/plain": [
              "<tf.Tensor: shape=(5, 1), dtype=int64, numpy=\n",
              "array([[607],\n",
              "       [879],\n",
              "       [ 75],\n",
              "       [ 65],\n",
              "       [331]])>"
            ]
          },
          "metadata": {},
          "execution_count": 461
        }
      ],
      "source": [
        "example_logits = tf.random.normal([5, 1, output_text_processor.vocabulary_size()])\n",
        "example_output_tokens = translator.sample(example_logits, temperature=1.0)\n",
        "example_output_tokens"
      ]
    },
    {
      "cell_type": "code",
      "execution_count": 462,
      "metadata": {
        "id": "QfLHBHfh3KHs"
      },
      "outputs": [],
      "source": [
        "def translate_unrolled(self,\n",
        "                       input_text, *,\n",
        "                       max_length=50,\n",
        "                       return_attention=True,\n",
        "                       temperature=1.0):\n",
        "  batch_size = tf.shape(input_text)[0]\n",
        "  input_tokens = self.input_text_processor(input_text)\n",
        "  enc_output, enc_state = self.encoder(input_tokens)\n",
        "\n",
        "  dec_state = enc_state\n",
        "  new_tokens = tf.fill([batch_size, 1], self.start_token)\n",
        "\n",
        "  result_tokens = []\n",
        "  attention = []\n",
        "  done = tf.zeros([batch_size, 1], dtype=tf.bool)\n",
        "\n",
        "  for _ in range(max_length):\n",
        "    dec_input = DecoderInput(new_tokens=new_tokens,\n",
        "                             enc_output=enc_output,\n",
        "                             mask=(input_tokens!=0))\n",
        "    \n",
        "    dec_result, dec_state = self.decoder(dec_input, state=dec_state)\n",
        "\n",
        "    attention.append(dec_result.attention_weights)\n",
        "\n",
        "    new_tokens = self.sample(dec_result.logits, temperature)\n",
        "\n",
        "    done = done | (new_tokens == self.end_token)\n",
        "    new_tokens = tf.where(done, tf.constant(0, dtype=tf.int64), new_tokens)\n",
        "\n",
        "    result_tokens.append(new_tokens)\n",
        "\n",
        "    if tf.executing_eagerly() and tf.reduce_all(done):\n",
        "      break\n",
        "\n",
        "  result_tokens = tf.concat(result_tokens, axis=-1)\n",
        "  result_text = self.tokens_to_text(result_tokens)\n",
        "\n",
        "  if return_attention:\n",
        "    attention_stack = tf.concat(attention, axis=1)\n",
        "    return {'text': result_text, 'attention': attention_stack}\n",
        "  else:\n",
        "    return {'text': result_text}\n"
      ]
    },
    {
      "cell_type": "code",
      "execution_count": 463,
      "metadata": {
        "id": "njYsu4RQ3O4k"
      },
      "outputs": [],
      "source": [
        "Translator.translate = translate_unrolled"
      ]
    },
    {
      "cell_type": "code",
      "execution_count": 464,
      "metadata": {
        "colab": {
          "base_uri": "https://localhost:8080/"
        },
        "id": "BQUPdEIh3QY3",
        "outputId": "53c93b35-a9c3-4f3d-b224-132480bce0f6"
      },
      "outputs": [
        {
          "output_type": "stream",
          "name": "stdout",
          "text": [
            "IX-1p RECENT-PAST DRINK TASTE FINE++ (1h)part:indef\n",
            "IX-1p RECENT-PAST READ+ BOOK IX-1p READ+ BOOK\n",
            "\n",
            "CPU times: user 287 ms, sys: 6.56 ms, total: 293 ms\n",
            "Wall time: 300 ms\n"
          ]
        }
      ],
      "source": [
        "%%time\n",
        "input_text = tf.constant([\n",
        "    'I just drank it and it tastes fine.',\n",
        "    'I just read a book.',\n",
        "])\n",
        "\n",
        "result = translator.translate(\n",
        "    input_text = input_text)\n",
        "\n",
        "print(result['text'][0].numpy().decode())\n",
        "print(result['text'][1].numpy().decode())\n",
        "print()"
      ]
    },
    {
      "cell_type": "code",
      "execution_count": 465,
      "metadata": {
        "id": "19NvU6aL3Szb"
      },
      "outputs": [],
      "source": [
        "#Generating Output text\n",
        "test_file = \"sentencesTest.txt\"\n",
        "\n",
        "outputfile = \"sign_rahaman_nmt_v16.txt\"\n",
        "out = open(outputfile, \"w\")\n",
        "\n",
        "with open(test_file, encoding=\"unicode_escape\" ) as f:\n",
        "    lines_test = f.read().split(\"\\n\")[:-1]\n",
        "\n",
        "for sent in lines_test:\n",
        "    list_data = []\n",
        "    list_data.append(sent)\n",
        "    input_text = tf.constant(list_data)\n",
        "    result = translator.translate(input_text = input_text)\n",
        "    translated = result['text'][0].numpy().decode().replace(\" \", \",\")\n",
        "    out.write(translated+'\\n')\n",
        "\n",
        "out.close()"
      ]
    }
  ],
  "metadata": {
    "accelerator": "GPU",
    "colab": {
      "collapsed_sections": [],
      "name": "sign_MT_A5_V5.ipynb",
      "provenance": []
    },
    "kernelspec": {
      "display_name": "Python 3",
      "name": "python3"
    },
    "language_info": {
      "name": "python"
    }
  },
  "nbformat": 4,
  "nbformat_minor": 0
}